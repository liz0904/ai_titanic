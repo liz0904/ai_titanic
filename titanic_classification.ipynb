{
  "nbformat": 4,
  "nbformat_minor": 0,
  "metadata": {
    "colab": {
      "name": "titanic_classification.ipynb",
      "provenance": [],
      "collapsed_sections": [],
      "authorship_tag": "ABX9TyPdWum6pVFH47ZSlG0Pu3LZ",
      "include_colab_link": true
    },
    "kernelspec": {
      "name": "python3",
      "display_name": "Python 3"
    },
    "language_info": {
      "name": "python"
    }
  },
  "cells": [
    {
      "cell_type": "markdown",
      "metadata": {
        "id": "view-in-github",
        "colab_type": "text"
      },
      "source": [
        "<a href=\"https://colab.research.google.com/github/liz0904/ai_titanic/blob/main/titanic_classification.ipynb\" target=\"_parent\"><img src=\"https://colab.research.google.com/assets/colab-badge.svg\" alt=\"Open In Colab\"/></a>"
      ]
    },
    {
      "cell_type": "code",
      "metadata": {
        "colab": {
          "base_uri": "https://localhost:8080/"
        },
        "id": "qYHERFCTccxK",
        "outputId": "d819e86d-f618-45cc-d22a-a185aa0dd306"
      },
      "source": [
        "#구글 드라이브 마운트\n",
        "from google.colab import drive\n",
        "drive.mount('/gdrive/')"
      ],
      "execution_count": null,
      "outputs": [
        {
          "output_type": "stream",
          "text": [
            "Mounted at /gdrive/\n"
          ],
          "name": "stdout"
        }
      ]
    },
    {
      "cell_type": "code",
      "metadata": {
        "colab": {
          "base_uri": "https://localhost:8080/"
        },
        "id": "CPVbZkb8cdlS",
        "outputId": "0a27d8c2-00c0-46e4-bfe1-18ae14274555"
      },
      "source": [
        "#<데이터 로딩>\n",
        "\n",
        "#라이브러리 설정\n",
        "import pandas as pd\n",
        "import numpy as np\n",
        "import matplotlib.pyplot as plt\n",
        "import seaborn as sns\n",
        "\n",
        "#데이콘 사이트에서 다운로드한 csv 파일 읽어오기\n",
        "drive_path=\"/gdrive/MyDrive/\"\n",
        "train=pd.read_csv(drive_path+\"titanic/train.csv\")\n",
        "test=pd.read_csv(drive_path+\"titanic/test.csv\")\n",
        "submission=pd.read_csv(drive_path+\"titanic/sample_submission.csv\")\n",
        "print(train.shape, test.shape, submission.shape)"
      ],
      "execution_count": 6,
      "outputs": [
        {
          "output_type": "stream",
          "text": [
            "(891, 12) (418, 11) (418, 2)\n"
          ],
          "name": "stdout"
        }
      ]
    }
  ]
}