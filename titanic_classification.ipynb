{
  "nbformat": 4,
  "nbformat_minor": 0,
  "metadata": {
    "colab": {
      "name": "titanic_classification.ipynb",
      "provenance": [],
      "collapsed_sections": [],
      "authorship_tag": "ABX9TyPAKI53oF3Yv06ZqGgWSvdW",
      "include_colab_link": true
    },
    "kernelspec": {
      "name": "python3",
      "display_name": "Python 3"
    },
    "language_info": {
      "name": "python"
    }
  },
  "cells": [
    {
      "cell_type": "markdown",
      "metadata": {
        "id": "view-in-github",
        "colab_type": "text"
      },
      "source": [
        "<a href=\"https://colab.research.google.com/github/liz0904/ai_titanic/blob/main/titanic_classification.ipynb\" target=\"_parent\"><img src=\"https://colab.research.google.com/assets/colab-badge.svg\" alt=\"Open In Colab\"/></a>"
      ]
    },
    {
      "cell_type": "code",
      "metadata": {
        "colab": {
          "base_uri": "https://localhost:8080/"
        },
        "id": "qYHERFCTccxK",
        "outputId": "f024e9f2-51e1-40cb-b46e-a85bd0b4e28a"
      },
      "source": [
        "#구글 드라이브 마운트\n",
        "from google.colab import drive\n",
        "drive.mount('/gdrive/')"
      ],
      "execution_count": 4,
      "outputs": [
        {
          "output_type": "stream",
          "text": [
            "Mounted at /gdrive/\n"
          ],
          "name": "stdout"
        }
      ]
    },
    {
      "cell_type": "code",
      "metadata": {
        "colab": {
          "base_uri": "https://localhost:8080/"
        },
        "id": "CPVbZkb8cdlS",
        "outputId": "8b6562e9-cf5f-4a2d-97c2-319361403452"
      },
      "source": [
        "#<데이터 로딩>\n",
        "\n",
        "#라이브러리 설정\n",
        "import pandas as pd\n",
        "import numpy as np\n",
        "import matplotlib.pyplot as plt\n",
        "import seaborn as sns\n",
        "\n",
        "#데이콘 사이트에서 다운로드한 csv 파일 읽어오기\n",
        "drive_path=\"/gdrive/MyDrive/\"\n",
        "train=pd.read_csv(drive_path+\"titanic/train.csv\") #판다스 read_csv 함수를 사용해 csv 파일을 읽고 데이터 프레임으로 변환\n",
        "test=pd.read_csv(drive_path+\"titanic/test.csv\")\n",
        "submission=pd.read_csv(drive_path+\"titanic/sample_submission.csv\")  #제출 파일 양식\n",
        "print(train.shape, test.shape, submission.shape)  #몇행 몇열인지 확인"
      ],
      "execution_count": 5,
      "outputs": [
        {
          "output_type": "stream",
          "text": [
            "(891, 12) (418, 11) (418, 2)\n"
          ],
          "name": "stdout"
        }
      ]
    },
    {
      "cell_type": "code",
      "metadata": {
        "colab": {
          "base_uri": "https://localhost:8080/",
          "height": 138
        },
        "id": "oIKefsq2dTNU",
        "outputId": "c1507312-ae42-40fb-dab3-a1239baa7b16"
      },
      "source": [
        "#train 데이터 프레임 내용 확인-생존여부(생존 1, 사망 0)\n",
        "train.head(3)"
      ],
      "execution_count": null,
      "outputs": [
        {
          "output_type": "execute_result",
          "data": {
            "text/html": [
              "<div>\n",
              "<style scoped>\n",
              "    .dataframe tbody tr th:only-of-type {\n",
              "        vertical-align: middle;\n",
              "    }\n",
              "\n",
              "    .dataframe tbody tr th {\n",
              "        vertical-align: top;\n",
              "    }\n",
              "\n",
              "    .dataframe thead th {\n",
              "        text-align: right;\n",
              "    }\n",
              "</style>\n",
              "<table border=\"1\" class=\"dataframe\">\n",
              "  <thead>\n",
              "    <tr style=\"text-align: right;\">\n",
              "      <th></th>\n",
              "      <th>PassengerId</th>\n",
              "      <th>Survived</th>\n",
              "      <th>Pclass</th>\n",
              "      <th>Name</th>\n",
              "      <th>Sex</th>\n",
              "      <th>Age</th>\n",
              "      <th>SibSp</th>\n",
              "      <th>Parch</th>\n",
              "      <th>Ticket</th>\n",
              "      <th>Fare</th>\n",
              "      <th>Cabin</th>\n",
              "      <th>Embarked</th>\n",
              "    </tr>\n",
              "  </thead>\n",
              "  <tbody>\n",
              "    <tr>\n",
              "      <th>0</th>\n",
              "      <td>1</td>\n",
              "      <td>0</td>\n",
              "      <td>3</td>\n",
              "      <td>Braund, Mr. Owen Harris</td>\n",
              "      <td>male</td>\n",
              "      <td>22.0</td>\n",
              "      <td>1</td>\n",
              "      <td>0</td>\n",
              "      <td>A/5 21171</td>\n",
              "      <td>7.2500</td>\n",
              "      <td>NaN</td>\n",
              "      <td>S</td>\n",
              "    </tr>\n",
              "    <tr>\n",
              "      <th>1</th>\n",
              "      <td>2</td>\n",
              "      <td>1</td>\n",
              "      <td>1</td>\n",
              "      <td>Cumings, Mrs. John Bradley (Florence Briggs Th...</td>\n",
              "      <td>female</td>\n",
              "      <td>38.0</td>\n",
              "      <td>1</td>\n",
              "      <td>0</td>\n",
              "      <td>PC 17599</td>\n",
              "      <td>71.2833</td>\n",
              "      <td>C85</td>\n",
              "      <td>C</td>\n",
              "    </tr>\n",
              "    <tr>\n",
              "      <th>2</th>\n",
              "      <td>3</td>\n",
              "      <td>1</td>\n",
              "      <td>3</td>\n",
              "      <td>Heikkinen, Miss. Laina</td>\n",
              "      <td>female</td>\n",
              "      <td>26.0</td>\n",
              "      <td>0</td>\n",
              "      <td>0</td>\n",
              "      <td>STON/O2. 3101282</td>\n",
              "      <td>7.9250</td>\n",
              "      <td>NaN</td>\n",
              "      <td>S</td>\n",
              "    </tr>\n",
              "  </tbody>\n",
              "</table>\n",
              "</div>"
            ],
            "text/plain": [
              "   PassengerId  Survived  Pclass  ...     Fare Cabin  Embarked\n",
              "0            1         0       3  ...   7.2500   NaN         S\n",
              "1            2         1       1  ...  71.2833   C85         C\n",
              "2            3         1       3  ...   7.9250   NaN         S\n",
              "\n",
              "[3 rows x 12 columns]"
            ]
          },
          "metadata": {
            "tags": []
          },
          "execution_count": 5
        }
      ]
    },
    {
      "cell_type": "code",
      "metadata": {
        "colab": {
          "base_uri": "https://localhost:8080/",
          "height": 138
        },
        "id": "hxyekY_feCi5",
        "outputId": "70b634ea-f987-40c8-d65c-a6ad3dfcf384"
      },
      "source": [
        "#test 데이터프레임 내용 확인- 목표변수에 대한 데이터 없음(테스트 데이터라서)\n",
        "test.head(3)"
      ],
      "execution_count": null,
      "outputs": [
        {
          "output_type": "execute_result",
          "data": {
            "text/html": [
              "<div>\n",
              "<style scoped>\n",
              "    .dataframe tbody tr th:only-of-type {\n",
              "        vertical-align: middle;\n",
              "    }\n",
              "\n",
              "    .dataframe tbody tr th {\n",
              "        vertical-align: top;\n",
              "    }\n",
              "\n",
              "    .dataframe thead th {\n",
              "        text-align: right;\n",
              "    }\n",
              "</style>\n",
              "<table border=\"1\" class=\"dataframe\">\n",
              "  <thead>\n",
              "    <tr style=\"text-align: right;\">\n",
              "      <th></th>\n",
              "      <th>PassengerId</th>\n",
              "      <th>Pclass</th>\n",
              "      <th>Name</th>\n",
              "      <th>Sex</th>\n",
              "      <th>Age</th>\n",
              "      <th>SibSp</th>\n",
              "      <th>Parch</th>\n",
              "      <th>Ticket</th>\n",
              "      <th>Fare</th>\n",
              "      <th>Cabin</th>\n",
              "      <th>Embarked</th>\n",
              "    </tr>\n",
              "  </thead>\n",
              "  <tbody>\n",
              "    <tr>\n",
              "      <th>0</th>\n",
              "      <td>892</td>\n",
              "      <td>3</td>\n",
              "      <td>Kelly, Mr. James</td>\n",
              "      <td>male</td>\n",
              "      <td>34.5</td>\n",
              "      <td>0</td>\n",
              "      <td>0</td>\n",
              "      <td>330911</td>\n",
              "      <td>7.8292</td>\n",
              "      <td>NaN</td>\n",
              "      <td>Q</td>\n",
              "    </tr>\n",
              "    <tr>\n",
              "      <th>1</th>\n",
              "      <td>893</td>\n",
              "      <td>3</td>\n",
              "      <td>Wilkes, Mrs. James (Ellen Needs)</td>\n",
              "      <td>female</td>\n",
              "      <td>47.0</td>\n",
              "      <td>1</td>\n",
              "      <td>0</td>\n",
              "      <td>363272</td>\n",
              "      <td>7.0000</td>\n",
              "      <td>NaN</td>\n",
              "      <td>S</td>\n",
              "    </tr>\n",
              "    <tr>\n",
              "      <th>2</th>\n",
              "      <td>894</td>\n",
              "      <td>2</td>\n",
              "      <td>Myles, Mr. Thomas Francis</td>\n",
              "      <td>male</td>\n",
              "      <td>62.0</td>\n",
              "      <td>0</td>\n",
              "      <td>0</td>\n",
              "      <td>240276</td>\n",
              "      <td>9.6875</td>\n",
              "      <td>NaN</td>\n",
              "      <td>Q</td>\n",
              "    </tr>\n",
              "  </tbody>\n",
              "</table>\n",
              "</div>"
            ],
            "text/plain": [
              "   PassengerId  Pclass                              Name  ...    Fare  Cabin  Embarked\n",
              "0          892       3                  Kelly, Mr. James  ...  7.8292    NaN         Q\n",
              "1          893       3  Wilkes, Mrs. James (Ellen Needs)  ...  7.0000    NaN         S\n",
              "2          894       2         Myles, Mr. Thomas Francis  ...  9.6875    NaN         Q\n",
              "\n",
              "[3 rows x 11 columns]"
            ]
          },
          "metadata": {
            "tags": []
          },
          "execution_count": 6
        }
      ]
    },
    {
      "cell_type": "code",
      "metadata": {
        "colab": {
          "base_uri": "https://localhost:8080/",
          "height": 198
        },
        "id": "FaXwqqzreJAh",
        "outputId": "07a71ec0-3eb7-498f-da65-628a64fd8b76"
      },
      "source": [
        "#submission 제출 파일 양식 확인\n",
        "submission.head()"
      ],
      "execution_count": null,
      "outputs": [
        {
          "output_type": "execute_result",
          "data": {
            "text/html": [
              "<div>\n",
              "<style scoped>\n",
              "    .dataframe tbody tr th:only-of-type {\n",
              "        vertical-align: middle;\n",
              "    }\n",
              "\n",
              "    .dataframe tbody tr th {\n",
              "        vertical-align: top;\n",
              "    }\n",
              "\n",
              "    .dataframe thead th {\n",
              "        text-align: right;\n",
              "    }\n",
              "</style>\n",
              "<table border=\"1\" class=\"dataframe\">\n",
              "  <thead>\n",
              "    <tr style=\"text-align: right;\">\n",
              "      <th></th>\n",
              "      <th>PassengerId</th>\n",
              "      <th>Survived</th>\n",
              "    </tr>\n",
              "  </thead>\n",
              "  <tbody>\n",
              "    <tr>\n",
              "      <th>0</th>\n",
              "      <td>892</td>\n",
              "      <td>0</td>\n",
              "    </tr>\n",
              "    <tr>\n",
              "      <th>1</th>\n",
              "      <td>893</td>\n",
              "      <td>1</td>\n",
              "    </tr>\n",
              "    <tr>\n",
              "      <th>2</th>\n",
              "      <td>894</td>\n",
              "      <td>0</td>\n",
              "    </tr>\n",
              "    <tr>\n",
              "      <th>3</th>\n",
              "      <td>895</td>\n",
              "      <td>0</td>\n",
              "    </tr>\n",
              "    <tr>\n",
              "      <th>4</th>\n",
              "      <td>896</td>\n",
              "      <td>1</td>\n",
              "    </tr>\n",
              "  </tbody>\n",
              "</table>\n",
              "</div>"
            ],
            "text/plain": [
              "   PassengerId  Survived\n",
              "0          892         0\n",
              "1          893         1\n",
              "2          894         0\n",
              "3          895         0\n",
              "4          896         1"
            ]
          },
          "metadata": {
            "tags": []
          },
          "execution_count": 13
        }
      ]
    },
    {
      "cell_type": "code",
      "metadata": {
        "colab": {
          "base_uri": "https://localhost:8080/"
        },
        "id": "sHSMHq7oehvf",
        "outputId": "887cb31f-924c-47ba-b762-7d8b543f0199"
      },
      "source": [
        "#train 데이터프레임 개요 정보-891보다 작은 개수의 non-null 데이터가 있는데, 부족한 개수만큼 missing value 존재\n",
        "train.info()"
      ],
      "execution_count": null,
      "outputs": [
        {
          "output_type": "stream",
          "text": [
            "<class 'pandas.core.frame.DataFrame'>\n",
            "RangeIndex: 891 entries, 0 to 890\n",
            "Data columns (total 12 columns):\n",
            " #   Column       Non-Null Count  Dtype  \n",
            "---  ------       --------------  -----  \n",
            " 0   PassengerId  891 non-null    int64  \n",
            " 1   Survived     891 non-null    int64  \n",
            " 2   Pclass       891 non-null    int64  \n",
            " 3   Name         891 non-null    object \n",
            " 4   Sex          891 non-null    object \n",
            " 5   Age          714 non-null    float64\n",
            " 6   SibSp        891 non-null    int64  \n",
            " 7   Parch        891 non-null    int64  \n",
            " 8   Ticket       891 non-null    object \n",
            " 9   Fare         891 non-null    float64\n",
            " 10  Cabin        204 non-null    object \n",
            " 11  Embarked     889 non-null    object \n",
            "dtypes: float64(2), int64(5), object(5)\n",
            "memory usage: 83.7+ KB\n"
          ],
          "name": "stdout"
        }
      ]
    },
    {
      "cell_type": "code",
      "metadata": {
        "colab": {
          "base_uri": "https://localhost:8080/",
          "height": 378
        },
        "id": "jienSJVTfmv6",
        "outputId": "fbdbd6eb-f732-4466-9413-722be6d5ec56"
      },
      "source": [
        "#train 데이터프레임 통계 정보\n",
        "train.describe(include='all') #all-숫자형이 아닌 문자열 등에 대한 정보를 포함해 show"
      ],
      "execution_count": null,
      "outputs": [
        {
          "output_type": "execute_result",
          "data": {
            "text/html": [
              "<div>\n",
              "<style scoped>\n",
              "    .dataframe tbody tr th:only-of-type {\n",
              "        vertical-align: middle;\n",
              "    }\n",
              "\n",
              "    .dataframe tbody tr th {\n",
              "        vertical-align: top;\n",
              "    }\n",
              "\n",
              "    .dataframe thead th {\n",
              "        text-align: right;\n",
              "    }\n",
              "</style>\n",
              "<table border=\"1\" class=\"dataframe\">\n",
              "  <thead>\n",
              "    <tr style=\"text-align: right;\">\n",
              "      <th></th>\n",
              "      <th>PassengerId</th>\n",
              "      <th>Survived</th>\n",
              "      <th>Pclass</th>\n",
              "      <th>Name</th>\n",
              "      <th>Sex</th>\n",
              "      <th>Age</th>\n",
              "      <th>SibSp</th>\n",
              "      <th>Parch</th>\n",
              "      <th>Ticket</th>\n",
              "      <th>Fare</th>\n",
              "      <th>Cabin</th>\n",
              "      <th>Embarked</th>\n",
              "    </tr>\n",
              "  </thead>\n",
              "  <tbody>\n",
              "    <tr>\n",
              "      <th>count</th>\n",
              "      <td>891.000000</td>\n",
              "      <td>891.000000</td>\n",
              "      <td>891.000000</td>\n",
              "      <td>891</td>\n",
              "      <td>891</td>\n",
              "      <td>714.000000</td>\n",
              "      <td>891.000000</td>\n",
              "      <td>891.000000</td>\n",
              "      <td>891</td>\n",
              "      <td>891.000000</td>\n",
              "      <td>204</td>\n",
              "      <td>889</td>\n",
              "    </tr>\n",
              "    <tr>\n",
              "      <th>unique</th>\n",
              "      <td>NaN</td>\n",
              "      <td>NaN</td>\n",
              "      <td>NaN</td>\n",
              "      <td>891</td>\n",
              "      <td>2</td>\n",
              "      <td>NaN</td>\n",
              "      <td>NaN</td>\n",
              "      <td>NaN</td>\n",
              "      <td>681</td>\n",
              "      <td>NaN</td>\n",
              "      <td>147</td>\n",
              "      <td>3</td>\n",
              "    </tr>\n",
              "    <tr>\n",
              "      <th>top</th>\n",
              "      <td>NaN</td>\n",
              "      <td>NaN</td>\n",
              "      <td>NaN</td>\n",
              "      <td>Ball, Mrs. (Ada E Hall)</td>\n",
              "      <td>male</td>\n",
              "      <td>NaN</td>\n",
              "      <td>NaN</td>\n",
              "      <td>NaN</td>\n",
              "      <td>CA. 2343</td>\n",
              "      <td>NaN</td>\n",
              "      <td>C23 C25 C27</td>\n",
              "      <td>S</td>\n",
              "    </tr>\n",
              "    <tr>\n",
              "      <th>freq</th>\n",
              "      <td>NaN</td>\n",
              "      <td>NaN</td>\n",
              "      <td>NaN</td>\n",
              "      <td>1</td>\n",
              "      <td>577</td>\n",
              "      <td>NaN</td>\n",
              "      <td>NaN</td>\n",
              "      <td>NaN</td>\n",
              "      <td>7</td>\n",
              "      <td>NaN</td>\n",
              "      <td>4</td>\n",
              "      <td>644</td>\n",
              "    </tr>\n",
              "    <tr>\n",
              "      <th>mean</th>\n",
              "      <td>446.000000</td>\n",
              "      <td>0.383838</td>\n",
              "      <td>2.308642</td>\n",
              "      <td>NaN</td>\n",
              "      <td>NaN</td>\n",
              "      <td>29.699118</td>\n",
              "      <td>0.523008</td>\n",
              "      <td>0.381594</td>\n",
              "      <td>NaN</td>\n",
              "      <td>32.204208</td>\n",
              "      <td>NaN</td>\n",
              "      <td>NaN</td>\n",
              "    </tr>\n",
              "    <tr>\n",
              "      <th>std</th>\n",
              "      <td>257.353842</td>\n",
              "      <td>0.486592</td>\n",
              "      <td>0.836071</td>\n",
              "      <td>NaN</td>\n",
              "      <td>NaN</td>\n",
              "      <td>14.526497</td>\n",
              "      <td>1.102743</td>\n",
              "      <td>0.806057</td>\n",
              "      <td>NaN</td>\n",
              "      <td>49.693429</td>\n",
              "      <td>NaN</td>\n",
              "      <td>NaN</td>\n",
              "    </tr>\n",
              "    <tr>\n",
              "      <th>min</th>\n",
              "      <td>1.000000</td>\n",
              "      <td>0.000000</td>\n",
              "      <td>1.000000</td>\n",
              "      <td>NaN</td>\n",
              "      <td>NaN</td>\n",
              "      <td>0.420000</td>\n",
              "      <td>0.000000</td>\n",
              "      <td>0.000000</td>\n",
              "      <td>NaN</td>\n",
              "      <td>0.000000</td>\n",
              "      <td>NaN</td>\n",
              "      <td>NaN</td>\n",
              "    </tr>\n",
              "    <tr>\n",
              "      <th>25%</th>\n",
              "      <td>223.500000</td>\n",
              "      <td>0.000000</td>\n",
              "      <td>2.000000</td>\n",
              "      <td>NaN</td>\n",
              "      <td>NaN</td>\n",
              "      <td>20.125000</td>\n",
              "      <td>0.000000</td>\n",
              "      <td>0.000000</td>\n",
              "      <td>NaN</td>\n",
              "      <td>7.910400</td>\n",
              "      <td>NaN</td>\n",
              "      <td>NaN</td>\n",
              "    </tr>\n",
              "    <tr>\n",
              "      <th>50%</th>\n",
              "      <td>446.000000</td>\n",
              "      <td>0.000000</td>\n",
              "      <td>3.000000</td>\n",
              "      <td>NaN</td>\n",
              "      <td>NaN</td>\n",
              "      <td>28.000000</td>\n",
              "      <td>0.000000</td>\n",
              "      <td>0.000000</td>\n",
              "      <td>NaN</td>\n",
              "      <td>14.454200</td>\n",
              "      <td>NaN</td>\n",
              "      <td>NaN</td>\n",
              "    </tr>\n",
              "    <tr>\n",
              "      <th>75%</th>\n",
              "      <td>668.500000</td>\n",
              "      <td>1.000000</td>\n",
              "      <td>3.000000</td>\n",
              "      <td>NaN</td>\n",
              "      <td>NaN</td>\n",
              "      <td>38.000000</td>\n",
              "      <td>1.000000</td>\n",
              "      <td>0.000000</td>\n",
              "      <td>NaN</td>\n",
              "      <td>31.000000</td>\n",
              "      <td>NaN</td>\n",
              "      <td>NaN</td>\n",
              "    </tr>\n",
              "    <tr>\n",
              "      <th>max</th>\n",
              "      <td>891.000000</td>\n",
              "      <td>1.000000</td>\n",
              "      <td>3.000000</td>\n",
              "      <td>NaN</td>\n",
              "      <td>NaN</td>\n",
              "      <td>80.000000</td>\n",
              "      <td>8.000000</td>\n",
              "      <td>6.000000</td>\n",
              "      <td>NaN</td>\n",
              "      <td>512.329200</td>\n",
              "      <td>NaN</td>\n",
              "      <td>NaN</td>\n",
              "    </tr>\n",
              "  </tbody>\n",
              "</table>\n",
              "</div>"
            ],
            "text/plain": [
              "        PassengerId    Survived      Pclass  ...        Fare        Cabin  Embarked\n",
              "count    891.000000  891.000000  891.000000  ...  891.000000          204       889\n",
              "unique          NaN         NaN         NaN  ...         NaN          147         3\n",
              "top             NaN         NaN         NaN  ...         NaN  C23 C25 C27         S\n",
              "freq            NaN         NaN         NaN  ...         NaN            4       644\n",
              "mean     446.000000    0.383838    2.308642  ...   32.204208          NaN       NaN\n",
              "std      257.353842    0.486592    0.836071  ...   49.693429          NaN       NaN\n",
              "min        1.000000    0.000000    1.000000  ...    0.000000          NaN       NaN\n",
              "25%      223.500000    0.000000    2.000000  ...    7.910400          NaN       NaN\n",
              "50%      446.000000    0.000000    3.000000  ...   14.454200          NaN       NaN\n",
              "75%      668.500000    1.000000    3.000000  ...   31.000000          NaN       NaN\n",
              "max      891.000000    1.000000    3.000000  ...  512.329200          NaN       NaN\n",
              "\n",
              "[11 rows x 12 columns]"
            ]
          },
          "metadata": {
            "tags": []
          },
          "execution_count": 8
        }
      ]
    },
    {
      "cell_type": "code",
      "metadata": {
        "colab": {
          "base_uri": "https://localhost:8080/",
          "height": 433
        },
        "id": "fSPvzvmzf64N",
        "outputId": "3f7675f0-6f9f-44a9-fc1f-937204ad83b9"
      },
      "source": [
        "#결측값 분포-missingno 라이브러리 사용\n",
        "import missingno as msno\n",
        "msno.bar(train, figsize=(10,5), color=(0.7, 0.2, 0.2))\n",
        "plt.show()  #Age, Cabin, Embarked 열에 결측값 존재"
      ],
      "execution_count": 11,
      "outputs": [
        {
          "output_type": "display_data",
          "data": {
            "image/png": "[encoded data removed]",
            "text/plain": [
              "<Figure size 720x360 with 3 Axes>"
            ]
          },
          "metadata": {
            "tags": []
          }
        }
      ]
    },
    {
      "cell_type": "code",
      "metadata": {
        "colab": {
          "base_uri": "https://localhost:8080/",
          "height": 403
        },
        "id": "1Lij0jv3gd-l",
        "outputId": "fbfd1d63-bc6a-46f6-deca-ddebaa1a486c"
      },
      "source": [
        "#matrix 함수: 데이터프레미의 어느위치에 결측값이 있는지 확인\n",
        "msno.matrix(test, figsize=(10,5), color=(0.7, 0.2, 0.2))\n",
        "plt.show()"
      ],
      "execution_count": 10,
      "outputs": [
        {
          "output_type": "display_data",
          "data": {
            "image/png": "[encoded data removed]",
            "text/plain": [
              "<Figure size 720x360 with 2 Axes>"
            ]
          },
          "metadata": {
            "tags": []
          }
        }
      ]
    },
    {
      "cell_type": "code",
      "metadata": {
        "colab": {
          "base_uri": "https://localhost:8080/",
          "height": 488
        },
        "id": "6qMGFRMsgvQm",
        "outputId": "7ec3926f-8261-41ab-be11-ecb8a75731fb"
      },
      "source": [
        "#상관 관계 분석\n",
        "#숫자형 변수 간의 상관관계를 계산하여 히트맵 그리기\n",
        "plt.figure(figsize=(8,8))\n",
        "sns.set(font_scale=0.8)\n",
        "sns.heatmap(train.corr(), annot=True, cbar=True); #corr 함수: 숫자형 데이터로 구성된 열에 대해서만 상관계수를 계산\n",
        "plt.show()  #Survived(목표변수)열과 상관관계가 높은 피처는 Pclass와 Fare, 또 Pclass와 Rase끼리의 상관계수(-0.55)도 높음"
      ],
      "execution_count": 12,
      "outputs": [
        {
          "output_type": "display_data",
          "data": {
            "image/png": "[encoded data removed]",
            "text/plain": [
              "<Figure size 576x576 with 2 Axes>"
            ]
          },
          "metadata": {
            "tags": []
          }
        }
      ]
    },
    {
      "cell_type": "code",
      "metadata": {
        "colab": {
          "base_uri": "https://localhost:8080/"
        },
        "id": "5MgfYIDLhq7g",
        "outputId": "89f12303-43ea-46d4-c390-77fb49da49a2"
      },
      "source": [
        "#데이터 결합-타이타닉 전체 데이터셋 준비\n",
        "train['TrainSplit']='Train'\n",
        "test['TrainSplit']='Test'\n",
        "data=pd.concat([train, test], axis=0) #concat 함수로 데이터프레임(train, test)을 위아래 방향(axis=0)으로 연결\n",
        "print(data.shape)"
      ],
      "execution_count": 13,
      "outputs": [
        {
          "output_type": "stream",
          "text": [
            "(1309, 13)\n"
          ],
          "name": "stdout"
        }
      ]
    },
    {
      "cell_type": "code",
      "metadata": {
        "colab": {
          "base_uri": "https://localhost:8080/"
        },
        "id": "C4OzZGcyiUDm",
        "outputId": "e286e990-1409-48df-e70e-8d7a864ec3e7"
      },
      "source": [
        "#데이터 전처리\n",
        "#숫자형 피처 추출\n",
        "data_num=data.loc[:,['Pclass','Age','SibSp','Parch', 'Fare', 'Survived']]\n",
        "\n",
        "#결측값 대체-fillna 함수 사용\n",
        "data_num['Age']=data_num['Age'].fillna(data_num['Age'].mean())    #Age열의 결측값은 평균값(mean)으로 대체\n",
        "data_num['Fare']=data_num['Fare'].fillna(data_num['Fare'].mean()) #Fare열의 결측값은 가장 많은 빈도수(최빈값)으로 대체\n",
        "\n",
        "#학습용 데이터와 예측 대상인 테스트 데이터 구분\n",
        "selected_features=['Pclass', 'Age','SibSp', 'Parch', 'Fare']\n",
        "x_train=data_num.loc[data['TrainSplit']=='Train', selected_features]\n",
        "y_train=data_num.loc[data['TrainSplit']=='Train', 'Survived']\n",
        "\n",
        "x_test=data_num.loc[data['TrainSplit']=='Test', selected_features]\n",
        "\n",
        "print(\"Train 데이터셋 크기:\", x_train.shape, y_train.shape)\n",
        "print(\"Test 데이터셋 크기\", x_test.shape)"
      ],
      "execution_count": 14,
      "outputs": [
        {
          "output_type": "stream",
          "text": [
            "Train 데이터셋 크기: (891, 5) (891,)\n",
            "Test 데이터셋 크기 (418, 5)\n"
          ],
          "name": "stdout"
        }
      ]
    },
    {
      "cell_type": "code",
      "metadata": {
        "colab": {
          "base_uri": "https://localhost:8080/",
          "height": 267
        },
        "id": "GHclUFxVjwWG",
        "outputId": "358fd3a7-a652-42f8-d467-a64983ad8f8f"
      },
      "source": [
        "#모델 학습 및 검증-로지스틱 회귀 분류 모델\n",
        "#훈련 - 검증 데이터 분할(y_val_pred:검증 데이터에 대한 예측값, y_val: 실제값)\n",
        "#학습데이터 x_train, y_train을 훈련데이터 80%, 검증데이터 20%으로 분할\n",
        "from sklearn.model_selection import train_test_split\n",
        "x_tr, x_val, y_tr, y_val=train_test_split(x_train, y_train, test_size=0.2, shuffle=True, random_state=20)\n",
        "\n",
        "#로지스틱 회귀 모델\n",
        "from sklearn.linear_model import LogisticRegression\n",
        "lr_model=LogisticRegression()\n",
        "lr_model.fit(x_tr, y_tr)\n",
        "y_val_pred=lr_model.predict(x_val)\n",
        "\n",
        "#Confusion Matrix-혼동 행력 계산 및 그래프로 표시\n",
        "# *혼동 행렬: 모형의 예측값과 실제값을 각각 축으로 하는 2X2 매트릭스로 표현한 것(정밀도, 재현율, F1 지표 산출 가능)\n",
        "from sklearn.metrics import confusion_matrix\n",
        "sns.heatmap(confusion_matrix(y_val, y_val_pred), annot=True, cbar=False, square=True)\n",
        "plt.show()\n"
      ],
      "execution_count": 15,
      "outputs": [
        {
          "output_type": "display_data",
          "data": {
            "image/png": "[encoded data removed]",
            "text/plain": [
              "<Figure size 432x288 with 1 Axes>"
            ]
          },
          "metadata": {
            "tags": []
          }
        }
      ]
    },
    {
      "cell_type": "code",
      "metadata": {
        "colab": {
          "base_uri": "https://localhost:8080/"
        },
        "id": "NnlCSGV0Vd1A",
        "outputId": "98c8bf0e-cba4-426f-c504-406f4ce88d86"
      },
      "source": [
        "#평가 지표\n",
        "from sklearn.metrics import accuracy_score, precision_score, recall_score\n",
        "from sklearn.metrics import f1_score, roc_auc_score\n",
        "\n",
        "print(\"Accuracy:%.3f\" %accuracy_score(y_val,y_val_pred))\n",
        "print(\"Precision: %.4f\" %precision_score(y_val, y_val_pred))  #정밀도: True로 예측한 분석 대상 중에서 실제값이 True인 비율 (높을수록  False Positive 오류가 작음)\n",
        "print(\"Recall: %4.f\" %recall_score(y_val,y_val_pred))         #재현율: 실제 True 중에서 True로 예측하여 모형이 적중한 비율 (높을 수록 False Negative 오류가 낮음)\n",
        "print(\"F1: %.4f\" %f1_score(y_val,y_val_pred))                 #F1 지표: 정확도와 재현율의 조화 평균 (높을 수록 분류 모형의 예측력이 좋음)\n",
        "print(\"AUC: %.4f\" %roc_auc_score(y_val, y_val_pred))          #데이콘 경진대회에서 사용하는 평가지표 (1에 가까울 수록 예측력이 좋은 모델)"
      ],
      "execution_count": 16,
      "outputs": [
        {
          "output_type": "stream",
          "text": [
            "Accuracy:0.721\n",
            "Precision: 0.6889\n",
            "Recall:    0\n",
            "F1: 0.5536\n",
            "AUC: 0.6688\n"
          ],
          "name": "stdout"
        }
      ]
    },
    {
      "cell_type": "code",
      "metadata": {
        "colab": {
          "base_uri": "https://localhost:8080/",
          "height": 198
        },
        "id": "cydFzE28WrH9",
        "outputId": "66a10cfb-369a-47fd-9b0c-e0daedbadf67"
      },
      "source": [
        "#모델 예측\n",
        "#test 데이터에 대한 예측값 정리\n",
        "y_test_pred=lr_model.predict(x_test)\n",
        "\n",
        "#제출 양식에 맞게 정리\n",
        "submission['Survived']=y_test_pred.astype(int)  #astype 함수로 예측값을 정수형으로 변환\n",
        "\n",
        "#제출 파일 저장\n",
        "submission_filepath=drive_path+'baseline_num_lr_submission_001.csv'\n",
        "submission.to_csv(submission_filepath, index=False)\n",
        "submission.head(5)"
      ],
      "execution_count": 17,
      "outputs": [
        {
          "output_type": "execute_result",
          "data": {
            "text/html": [
              "<div>\n",
              "<style scoped>\n",
              "    .dataframe tbody tr th:only-of-type {\n",
              "        vertical-align: middle;\n",
              "    }\n",
              "\n",
              "    .dataframe tbody tr th {\n",
              "        vertical-align: top;\n",
              "    }\n",
              "\n",
              "    .dataframe thead th {\n",
              "        text-align: right;\n",
              "    }\n",
              "</style>\n",
              "<table border=\"1\" class=\"dataframe\">\n",
              "  <thead>\n",
              "    <tr style=\"text-align: right;\">\n",
              "      <th></th>\n",
              "      <th>PassengerId</th>\n",
              "      <th>Survived</th>\n",
              "    </tr>\n",
              "  </thead>\n",
              "  <tbody>\n",
              "    <tr>\n",
              "      <th>0</th>\n",
              "      <td>892</td>\n",
              "      <td>0</td>\n",
              "    </tr>\n",
              "    <tr>\n",
              "      <th>1</th>\n",
              "      <td>893</td>\n",
              "      <td>0</td>\n",
              "    </tr>\n",
              "    <tr>\n",
              "      <th>2</th>\n",
              "      <td>894</td>\n",
              "      <td>0</td>\n",
              "    </tr>\n",
              "    <tr>\n",
              "      <th>3</th>\n",
              "      <td>895</td>\n",
              "      <td>0</td>\n",
              "    </tr>\n",
              "    <tr>\n",
              "      <th>4</th>\n",
              "      <td>896</td>\n",
              "      <td>0</td>\n",
              "    </tr>\n",
              "  </tbody>\n",
              "</table>\n",
              "</div>"
            ],
            "text/plain": [
              "   PassengerId  Survived\n",
              "0          892         0\n",
              "1          893         0\n",
              "2          894         0\n",
              "3          895         0\n",
              "4          896         0"
            ]
          },
          "metadata": {
            "tags": []
          },
          "execution_count": 17
        }
      ]
    },
    {
      "cell_type": "code",
      "metadata": {
        "colab": {
          "base_uri": "https://localhost:8080/"
        },
        "id": "pDCcFUrGYm-Z",
        "outputId": "b4eb5a1c-12c0-419e-ae98-68b9fdf71450"
      },
      "source": [
        "#피처 엔지니어링(+EDA)\n",
        "\n",
        "#Survived: 생존 여부\n",
        "#타깃 레이블의 분포 확인\n",
        "train['Survived'].value_counts(dropna=False)  #생존자 342명"
      ],
      "execution_count": 18,
      "outputs": [
        {
          "output_type": "execute_result",
          "data": {
            "text/plain": [
              "0    549\n",
              "1    342\n",
              "Name: Survived, dtype: int64"
            ]
          },
          "metadata": {
            "tags": []
          },
          "execution_count": 18
        }
      ]
    },
    {
      "cell_type": "code",
      "metadata": {
        "colab": {
          "base_uri": "https://localhost:8080/",
          "height": 281
        },
        "id": "g2h91I6Trg2F",
        "outputId": "d4c0662c-c7b8-4f43-b20a-b0dda193a7f2"
      },
      "source": [
        "#객실 등급별 분포 확인\n",
        "sns.countplot(x='Survived', data=data[data['TrainSplit']=='Train'])\n",
        "plt.show()"
      ],
      "execution_count": 19,
      "outputs": [
        {
          "output_type": "display_data",
          "data": {
            "image/png": "[encoded data removed]",
            "text/plain": [
              "<Figure size 432x288 with 1 Axes>"
            ]
          },
          "metadata": {
            "tags": []
          }
        }
      ]
    },
    {
      "cell_type": "code",
      "metadata": {
        "colab": {
          "base_uri": "https://localhost:8080/",
          "height": 281
        },
        "id": "sSjgWgz3r2WX",
        "outputId": "c343defd-22ef-43a1-c572-eea80a7cc714"
      },
      "source": [
        "#train-test 데이터 분포\n",
        "#3등석 승객이 가장 많고, 1~2등석은 비슷함\n",
        "sns.countplot(x='Pclass', hue='TrainSplit', data=data)\n",
        "plt.show()"
      ],
      "execution_count": 20,
      "outputs": [
        {
          "output_type": "display_data",
          "data": {
            "image/png": "[encoded data removed]",
            "text/plain": [
              "<Figure size 432x288 with 1 Axes>"
            ]
          },
          "metadata": {
            "tags": []
          }
        }
      ]
    },
    {
      "cell_type": "code",
      "metadata": {
        "colab": {
          "base_uri": "https://localhost:8080/",
          "height": 281
        },
        "id": "kZVrq3-WumFl",
        "outputId": "2f745581-69b1-433d-d740-e1acc8d8b034"
      },
      "source": [
        "#객실 등급(Pclass)에 따른 생존자(Survived) 비율 확인\n",
        "sns.countplot(x='Pclass', hue='Survived', data=data[data['TrainSplit']=='Train'])\n",
        "plt.show()"
      ],
      "execution_count": null,
      "outputs": [
        {
          "output_type": "display_data",
          "data": {
            "image/png": "[encoded data removed]",
            "text/plain": [
              "<Figure size 432x288 with 1 Axes>"
            ]
          },
          "metadata": {
            "tags": []
          }
        }
      ]
    },
    {
      "cell_type": "code",
      "metadata": {
        "colab": {
          "base_uri": "https://localhost:8080/",
          "height": 281
        },
        "id": "gZ0HoKAxu7_A",
        "outputId": "1d18938c-60a9-475a-a25f-c703cc49c2a1"
      },
      "source": [
        "#등급별 객실(Pclass)별 객실 요금(Fare)의 중간값(median)의 분포\n",
        "sns.barplot(x='Pclass',y='Fare', hue='Survived', data=data[data['TrainSplit']=='Train'], estimator=np.median)\n",
        "plt.show()  #생존자들이 지불한 객실요금이 높은 패턴을 보임"
      ],
      "execution_count": 21,
      "outputs": [
        {
          "output_type": "display_data",
          "data": {
            "image/png": "[encoded data removed]",
            "text/plain": [
              "<Figure size 432x288 with 1 Axes>"
            ]
          },
          "metadata": {
            "tags": []
          }
        }
      ]
    },
    {
      "cell_type": "code",
      "metadata": {
        "colab": {
          "base_uri": "https://localhost:8080/",
          "height": 281
        },
        "id": "TfhVT0Y9vYRY",
        "outputId": "f9ed13e6-0bae-4c2d-e006-fde583ac06a7"
      },
      "source": [
        "#남녀 성별에 따른 생존율 분포 파악\n",
        "sns.histplot(x='Sex', hue='Survived', multiple='dodge', data=data[data['TrainSplit']=='Train']) #multiple 속성에 dodge를 설정하면 hue 옵션의 데이터를 기준으로 막대 그래프를 서로 겹치지 않게 수평으로 펼쳐서 분리 표시\n",
        "plt.show()"
      ],
      "execution_count": 22,
      "outputs": [
        {
          "output_type": "display_data",
          "data": {
            "image/png": "[encoded data removed]",
            "text/plain": [
              "<Figure size 432x288 with 1 Axes>"
            ]
          },
          "metadata": {
            "tags": []
          }
        }
      ]
    },
    {
      "cell_type": "code",
      "metadata": {
        "colab": {
          "base_uri": "https://localhost:8080/"
        },
        "id": "ofcxDoSVvua7",
        "outputId": "b9fac860-606a-482b-b6cc-f7788328d372"
      },
      "source": [
        "#레이블 인코딩(female=0, male=1)\n",
        "#문자열 데이터를 그대로 학습에 사용할 수 없기에, 숫자형 데이터로 변환하는 작업\n",
        "data.loc[data['Sex']=='female', 'Sex']=0\n",
        "data.loc[data['Sex']=='male', 'Sex']=1\n",
        "data['Sex']=data['Sex'].astype(int)\n",
        "\n",
        "#성별 분포 확인\n",
        "data['Sex'].value_counts(dropna=False)"
      ],
      "execution_count": 23,
      "outputs": [
        {
          "output_type": "execute_result",
          "data": {
            "text/plain": [
              "1    843\n",
              "0    466\n",
              "Name: Sex, dtype: int64"
            ]
          },
          "metadata": {
            "tags": []
          },
          "execution_count": 23
        }
      ]
    },
    {
      "cell_type": "code",
      "metadata": {
        "colab": {
          "base_uri": "https://localhost:8080/"
        },
        "id": "uEwRK0_2wQ6a",
        "outputId": "b2660ba6-e6cd-4d66-c7af-d47861a4de0b"
      },
      "source": [
        "#Name:이름 - 문자열 데이터를 다루는 방법 스터디\n",
        "data['Name'].unique() #unique 함수로 고유값을 확인"
      ],
      "execution_count": 24,
      "outputs": [
        {
          "output_type": "execute_result",
          "data": {
            "text/plain": [
              "array(['Braund, Mr. Owen Harris',\n",
              "       'Cumings, Mrs. John Bradley (Florence Briggs Thayer)',\n",
              "       'Heikkinen, Miss. Laina', ..., 'Saether, Mr. Simon Sivertsen',\n",
              "       'Ware, Mr. Frederick', 'Peter, Master. Michael J'], dtype=object)"
            ]
          },
          "metadata": {
            "tags": []
          },
          "execution_count": 24
        }
      ]
    },
    {
      "cell_type": "code",
      "metadata": {
        "colab": {
          "base_uri": "https://localhost:8080/"
        },
        "id": "h2nkVwWCwhGG",
        "outputId": "37f74967-dd01-4d77-ac68-2a612679c72e"
      },
      "source": [
        "#Name 열을 선택하고 str 속성을 적용하면 문자열을 직접 추출할 수 있음\n",
        "#split 메소드를 적용하면 문자열을 쉼표 기준을 분할함 -> 타이틀(Mr, Ms 등)이 들어있는 뒷부분의 문자열을 따로 추출\n",
        "title_name=data['Name'].str.split(\", \", expand=True)[1]\n",
        "title_name"
      ],
      "execution_count": 25,
      "outputs": [
        {
          "output_type": "execute_result",
          "data": {
            "text/plain": [
              "0                                 Mr. Owen Harris\n",
              "1      Mrs. John Bradley (Florence Briggs Thayer)\n",
              "2                                     Miss. Laina\n",
              "3              Mrs. Jacques Heath (Lily May Peel)\n",
              "4                               Mr. William Henry\n",
              "                          ...                    \n",
              "413                                     Mr. Woolf\n",
              "414                                 Dona. Fermina\n",
              "415                           Mr. Simon Sivertsen\n",
              "416                                 Mr. Frederick\n",
              "417                             Master. Michael J\n",
              "Name: 1, Length: 1309, dtype: object"
            ]
          },
          "metadata": {
            "tags": []
          },
          "execution_count": 25
        }
      ]
    },
    {
      "cell_type": "code",
      "metadata": {
        "colab": {
          "base_uri": "https://localhost:8080/"
        },
        "id": "vp-ckQqWxDwv",
        "outputId": "a5c7eb65-1779-4475-973e-d75da0b984a9"
      },
      "source": [
        "#타이틀부분([0])과 성([1])을 나눔\n",
        "title=title_name.str.split(\".\", expand=True)[0]\n",
        "title.value_counts(dropna=False)"
      ],
      "execution_count": 26,
      "outputs": [
        {
          "output_type": "execute_result",
          "data": {
            "text/plain": [
              "Mr              757\n",
              "Miss            260\n",
              "Mrs             197\n",
              "Master           61\n",
              "Rev               8\n",
              "Dr                8\n",
              "Col               4\n",
              "Major             2\n",
              "Mlle              2\n",
              "Ms                2\n",
              "Don               1\n",
              "Sir               1\n",
              "Jonkheer          1\n",
              "Lady              1\n",
              "the Countess      1\n",
              "Capt              1\n",
              "Dona              1\n",
              "Mme               1\n",
              "Name: 0, dtype: int64"
            ]
          },
          "metadata": {
            "tags": []
          },
          "execution_count": 26
        }
      ]
    },
    {
      "cell_type": "code",
      "metadata": {
        "colab": {
          "base_uri": "https://localhost:8080/"
        },
        "id": "oHPykaU2xiXr",
        "outputId": "bdf975d9-a95d-4ae5-a975-14810217c63c"
      },
      "source": [
        "#비슷한 속성을 가진 타이틀끼리 같은 그룹으로 묶기\n",
        "#replace 함수를 타이틀이 들어있는 시리즈 객체에 적용하면 리스트 안의 문자열들을 뒤에 나오는 문자열로 모두 바꿈\n",
        "title=title.replace(['Ms'], 'Miss')\n",
        "title=title.replace(['Mlle', 'ths Countess', 'Lady', 'Don','Dona','Mme', 'Sir', 'Jonkheer'],'Noble')\n",
        "title=title.replace(['Col', 'Major', 'Capt'], 'Officer')\n",
        "title=title.replace(['Dr', 'Rev'], 'Priest')\n",
        "data['Title']=np.array(title)\n",
        "data['Title'].value_counts(dropna=False)"
      ],
      "execution_count": 27,
      "outputs": [
        {
          "output_type": "execute_result",
          "data": {
            "text/plain": [
              "Mr              757\n",
              "Miss            262\n",
              "Mrs             197\n",
              "Master           61\n",
              "Priest           16\n",
              "Noble             8\n",
              "Officer           7\n",
              "the Countess      1\n",
              "Name: Title, dtype: int64"
            ]
          },
          "metadata": {
            "tags": []
          },
          "execution_count": 27
        }
      ]
    },
    {
      "cell_type": "code",
      "metadata": {
        "colab": {
          "base_uri": "https://localhost:8080/",
          "height": 281
        },
        "id": "lqTDECJjyRX4",
        "outputId": "bfbacda0-7a5c-4f8f-899a-b131d42815d5"
      },
      "source": [
        "#승객 나이와 생존 여부와의 관계\n",
        "sns.violinplot(x='Title', y='Age', hue='Survived', data=data, split=True)\n",
        "plt.show()"
      ],
      "execution_count": 32,
      "outputs": [
        {
          "output_type": "display_data",
          "data": {
            "image/png": "[encoded data removed]",
            "text/plain": [
              "<Figure size 432x288 with 1 Axes>"
            ]
          },
          "metadata": {
            "tags": []
          }
        }
      ]
    },
    {
      "cell_type": "code",
      "metadata": {
        "colab": {
          "base_uri": "https://localhost:8080/",
          "height": 378
        },
        "id": "Bkc4BwaNygDc",
        "outputId": "d7a43750-6f78-4be7-f212-f65c69a6c4dd"
      },
      "source": [
        "#불필요해진 Name열은 데이터 프레임에서 삭제(의미있는 건 앞에서 Title 열에 저장함)\n",
        "#왜 오류가 날까 ㅠㅠ\n",
        "data = data.drop('Name', axis=1)\n",
        "data.columns"
      ],
      "execution_count": 33,
      "outputs": [
        {
          "output_type": "error",
          "ename": "KeyError",
          "evalue": "ignored",
          "traceback": [
            "\u001b[0;31m---------------------------------------------------------------------------\u001b[0m",
            "\u001b[0;31mKeyError\u001b[0m                                  Traceback (most recent call last)",
            "\u001b[0;32m<ipython-input-33-3bbb7cbc071c>\u001b[0m in \u001b[0;36m<module>\u001b[0;34m()\u001b[0m\n\u001b[1;32m      1\u001b[0m \u001b[0;31m#불필요해진 Name열은 데이터 프레임에서 삭제(의미있는 건 앞에서 Title 열에 저장함)\u001b[0m\u001b[0;34m\u001b[0m\u001b[0;34m\u001b[0m\u001b[0;34m\u001b[0m\u001b[0m\n\u001b[1;32m      2\u001b[0m \u001b[0;31m#왜 오류가 날까 ㅠㅠ\u001b[0m\u001b[0;34m\u001b[0m\u001b[0;34m\u001b[0m\u001b[0;34m\u001b[0m\u001b[0m\n\u001b[0;32m----> 3\u001b[0;31m \u001b[0mdata\u001b[0m \u001b[0;34m=\u001b[0m \u001b[0mdata\u001b[0m\u001b[0;34m.\u001b[0m\u001b[0mdrop\u001b[0m\u001b[0;34m(\u001b[0m\u001b[0;34m'Name'\u001b[0m\u001b[0;34m,\u001b[0m \u001b[0maxis\u001b[0m\u001b[0;34m=\u001b[0m\u001b[0;36m1\u001b[0m\u001b[0;34m)\u001b[0m\u001b[0;34m\u001b[0m\u001b[0;34m\u001b[0m\u001b[0m\n\u001b[0m\u001b[1;32m      4\u001b[0m \u001b[0mdata\u001b[0m\u001b[0;34m.\u001b[0m\u001b[0mcolumns\u001b[0m\u001b[0;34m\u001b[0m\u001b[0;34m\u001b[0m\u001b[0m\n",
            "\u001b[0;32m/usr/local/lib/python3.7/dist-packages/pandas/core/frame.py\u001b[0m in \u001b[0;36mdrop\u001b[0;34m(self, labels, axis, index, columns, level, inplace, errors)\u001b[0m\n\u001b[1;32m   4172\u001b[0m             \u001b[0mlevel\u001b[0m\u001b[0;34m=\u001b[0m\u001b[0mlevel\u001b[0m\u001b[0;34m,\u001b[0m\u001b[0;34m\u001b[0m\u001b[0;34m\u001b[0m\u001b[0m\n\u001b[1;32m   4173\u001b[0m             \u001b[0minplace\u001b[0m\u001b[0;34m=\u001b[0m\u001b[0minplace\u001b[0m\u001b[0;34m,\u001b[0m\u001b[0;34m\u001b[0m\u001b[0;34m\u001b[0m\u001b[0m\n\u001b[0;32m-> 4174\u001b[0;31m             \u001b[0merrors\u001b[0m\u001b[0;34m=\u001b[0m\u001b[0merrors\u001b[0m\u001b[0;34m,\u001b[0m\u001b[0;34m\u001b[0m\u001b[0;34m\u001b[0m\u001b[0m\n\u001b[0m\u001b[1;32m   4175\u001b[0m         )\n\u001b[1;32m   4176\u001b[0m \u001b[0;34m\u001b[0m\u001b[0m\n",
            "\u001b[0;32m/usr/local/lib/python3.7/dist-packages/pandas/core/generic.py\u001b[0m in \u001b[0;36mdrop\u001b[0;34m(self, labels, axis, index, columns, level, inplace, errors)\u001b[0m\n\u001b[1;32m   3887\u001b[0m         \u001b[0;32mfor\u001b[0m \u001b[0maxis\u001b[0m\u001b[0;34m,\u001b[0m \u001b[0mlabels\u001b[0m \u001b[0;32min\u001b[0m \u001b[0maxes\u001b[0m\u001b[0;34m.\u001b[0m\u001b[0mitems\u001b[0m\u001b[0;34m(\u001b[0m\u001b[0;34m)\u001b[0m\u001b[0;34m:\u001b[0m\u001b[0;34m\u001b[0m\u001b[0;34m\u001b[0m\u001b[0m\n\u001b[1;32m   3888\u001b[0m             \u001b[0;32mif\u001b[0m \u001b[0mlabels\u001b[0m \u001b[0;32mis\u001b[0m \u001b[0;32mnot\u001b[0m \u001b[0;32mNone\u001b[0m\u001b[0;34m:\u001b[0m\u001b[0;34m\u001b[0m\u001b[0;34m\u001b[0m\u001b[0m\n\u001b[0;32m-> 3889\u001b[0;31m                 \u001b[0mobj\u001b[0m \u001b[0;34m=\u001b[0m \u001b[0mobj\u001b[0m\u001b[0;34m.\u001b[0m\u001b[0m_drop_axis\u001b[0m\u001b[0;34m(\u001b[0m\u001b[0mlabels\u001b[0m\u001b[0;34m,\u001b[0m \u001b[0maxis\u001b[0m\u001b[0;34m,\u001b[0m \u001b[0mlevel\u001b[0m\u001b[0;34m=\u001b[0m\u001b[0mlevel\u001b[0m\u001b[0;34m,\u001b[0m \u001b[0merrors\u001b[0m\u001b[0;34m=\u001b[0m\u001b[0merrors\u001b[0m\u001b[0;34m)\u001b[0m\u001b[0;34m\u001b[0m\u001b[0;34m\u001b[0m\u001b[0m\n\u001b[0m\u001b[1;32m   3890\u001b[0m \u001b[0;34m\u001b[0m\u001b[0m\n\u001b[1;32m   3891\u001b[0m         \u001b[0;32mif\u001b[0m \u001b[0minplace\u001b[0m\u001b[0;34m:\u001b[0m\u001b[0;34m\u001b[0m\u001b[0;34m\u001b[0m\u001b[0m\n",
            "\u001b[0;32m/usr/local/lib/python3.7/dist-packages/pandas/core/generic.py\u001b[0m in \u001b[0;36m_drop_axis\u001b[0;34m(self, labels, axis, level, errors)\u001b[0m\n\u001b[1;32m   3921\u001b[0m                 \u001b[0mnew_axis\u001b[0m \u001b[0;34m=\u001b[0m \u001b[0maxis\u001b[0m\u001b[0;34m.\u001b[0m\u001b[0mdrop\u001b[0m\u001b[0;34m(\u001b[0m\u001b[0mlabels\u001b[0m\u001b[0;34m,\u001b[0m \u001b[0mlevel\u001b[0m\u001b[0;34m=\u001b[0m\u001b[0mlevel\u001b[0m\u001b[0;34m,\u001b[0m \u001b[0merrors\u001b[0m\u001b[0;34m=\u001b[0m\u001b[0merrors\u001b[0m\u001b[0;34m)\u001b[0m\u001b[0;34m\u001b[0m\u001b[0;34m\u001b[0m\u001b[0m\n\u001b[1;32m   3922\u001b[0m             \u001b[0;32melse\u001b[0m\u001b[0;34m:\u001b[0m\u001b[0;34m\u001b[0m\u001b[0;34m\u001b[0m\u001b[0m\n\u001b[0;32m-> 3923\u001b[0;31m                 \u001b[0mnew_axis\u001b[0m \u001b[0;34m=\u001b[0m \u001b[0maxis\u001b[0m\u001b[0;34m.\u001b[0m\u001b[0mdrop\u001b[0m\u001b[0;34m(\u001b[0m\u001b[0mlabels\u001b[0m\u001b[0;34m,\u001b[0m \u001b[0merrors\u001b[0m\u001b[0;34m=\u001b[0m\u001b[0merrors\u001b[0m\u001b[0;34m)\u001b[0m\u001b[0;34m\u001b[0m\u001b[0;34m\u001b[0m\u001b[0m\n\u001b[0m\u001b[1;32m   3924\u001b[0m             \u001b[0mresult\u001b[0m \u001b[0;34m=\u001b[0m \u001b[0mself\u001b[0m\u001b[0;34m.\u001b[0m\u001b[0mreindex\u001b[0m\u001b[0;34m(\u001b[0m\u001b[0;34m**\u001b[0m\u001b[0;34m{\u001b[0m\u001b[0maxis_name\u001b[0m\u001b[0;34m:\u001b[0m \u001b[0mnew_axis\u001b[0m\u001b[0;34m}\u001b[0m\u001b[0;34m)\u001b[0m\u001b[0;34m\u001b[0m\u001b[0;34m\u001b[0m\u001b[0m\n\u001b[1;32m   3925\u001b[0m \u001b[0;34m\u001b[0m\u001b[0m\n",
            "\u001b[0;32m/usr/local/lib/python3.7/dist-packages/pandas/core/indexes/base.py\u001b[0m in \u001b[0;36mdrop\u001b[0;34m(self, labels, errors)\u001b[0m\n\u001b[1;32m   5285\u001b[0m         \u001b[0;32mif\u001b[0m \u001b[0mmask\u001b[0m\u001b[0;34m.\u001b[0m\u001b[0many\u001b[0m\u001b[0;34m(\u001b[0m\u001b[0;34m)\u001b[0m\u001b[0;34m:\u001b[0m\u001b[0;34m\u001b[0m\u001b[0;34m\u001b[0m\u001b[0m\n\u001b[1;32m   5286\u001b[0m             \u001b[0;32mif\u001b[0m \u001b[0merrors\u001b[0m \u001b[0;34m!=\u001b[0m \u001b[0;34m\"ignore\"\u001b[0m\u001b[0;34m:\u001b[0m\u001b[0;34m\u001b[0m\u001b[0;34m\u001b[0m\u001b[0m\n\u001b[0;32m-> 5287\u001b[0;31m                 \u001b[0;32mraise\u001b[0m \u001b[0mKeyError\u001b[0m\u001b[0;34m(\u001b[0m\u001b[0;34mf\"{labels[mask]} not found in axis\"\u001b[0m\u001b[0;34m)\u001b[0m\u001b[0;34m\u001b[0m\u001b[0;34m\u001b[0m\u001b[0m\n\u001b[0m\u001b[1;32m   5288\u001b[0m             \u001b[0mindexer\u001b[0m \u001b[0;34m=\u001b[0m \u001b[0mindexer\u001b[0m\u001b[0;34m[\u001b[0m\u001b[0;34m~\u001b[0m\u001b[0mmask\u001b[0m\u001b[0;34m]\u001b[0m\u001b[0;34m\u001b[0m\u001b[0;34m\u001b[0m\u001b[0m\n\u001b[1;32m   5289\u001b[0m         \u001b[0;32mreturn\u001b[0m \u001b[0mself\u001b[0m\u001b[0;34m.\u001b[0m\u001b[0mdelete\u001b[0m\u001b[0;34m(\u001b[0m\u001b[0mindexer\u001b[0m\u001b[0;34m)\u001b[0m\u001b[0;34m\u001b[0m\u001b[0;34m\u001b[0m\u001b[0m\n",
            "\u001b[0;31mKeyError\u001b[0m: \"['Name'] not found in axis\""
          ]
        }
      ]
    },
    {
      "cell_type": "code",
      "metadata": {
        "colab": {
          "base_uri": "https://localhost:8080/"
        },
        "id": "-s-SlYkozvsg",
        "outputId": "45c34048-0e68-4b00-80f5-53d83143e815"
      },
      "source": [
        "#나이 Age열의 결측값 확인\n",
        "for title in data['Title'].unique():\n",
        "  #결측값 개수 확인\n",
        "  print(\"%s 결측값 개수:\" %title, data.loc[data['Title']==title, 'Age'].isnull().sum())\n",
        "  #각 Title의 중간값으로 대체\n",
        "  age_med=data.loc[data['Title']==title, 'Age'].median()\n",
        "  data.loc[data['Title']==title,'Age']=data.loc[data['Title']==title, 'Age'].fillna(age_med)\n",
        "\n",
        "#결측값 처리 여부 확인\n",
        "print(\"\\n\")\n",
        "print(\"Age 열의 결측값 개수\", data['Age'].isnull().sum())"
      ],
      "execution_count": 34,
      "outputs": [
        {
          "output_type": "stream",
          "text": [
            "Mr 결측값 개수: 176\n",
            "Mrs 결측값 개수: 27\n",
            "Miss 결측값 개수: 51\n",
            "Master 결측값 개수: 8\n",
            "Noble 결측값 개수: 0\n",
            "Priest 결측값 개수: 1\n",
            "Officer 결측값 개수: 0\n",
            "the Countess 결측값 개수: 0\n",
            "\n",
            "\n",
            "Age 열의 결측값 개수 0\n"
          ],
          "name": "stdout"
        }
      ]
    },
    {
      "cell_type": "code",
      "metadata": {
        "colab": {
          "base_uri": "https://localhost:8080/",
          "height": 370
        },
        "id": "ZjY6Enfp5I_D",
        "outputId": "ffc26839-94e1-4408-a2f9-9fd108ba5b33"
      },
      "source": [
        "#Age 분포\n",
        "sns.displot(x='Age', kind='hist', hue='Survived', data=data[data['TrainSplit']=='Train'])\n",
        "plt.show()"
      ],
      "execution_count": 35,
      "outputs": [
        {
          "output_type": "display_data",
          "data": {
            "image/png": "[encoded data removed]",
            "text/plain": [
              "<Figure size 409.54x360 with 1 Axes>"
            ]
          },
          "metadata": {
            "tags": []
          }
        }
      ]
    },
    {
      "cell_type": "code",
      "metadata": {
        "colab": {
          "base_uri": "https://localhost:8080/",
          "height": 318
        },
        "id": "WKQmocYc5bWt",
        "outputId": "43c9efe3-5f77-4721-8c1f-18ce1bf8eb98"
      },
      "source": [
        "#나이에 따라 생존율에 차이가 나기 때문에 앞의 히스토그램 분포를 기준으로 Age 열의 데이터를 여러 개의 구간으로 나눔\n",
        "#Binning-구간 나누기\n",
        "bins=[0,4,8,12,16,32,36,48,56,64,100]\n",
        "labels=['Infant','Child1','Child2','Youth1','Youth2', 'Adult1', 'Adult2','Middle Aged','Senior','Elderly']\n",
        "data['AgeBin']=pd.cut(data['Age'],bins=bins,labels=labels)  #각 구간의 이름(lable) 지정, 각 구간의 나누는 경계값(bin), cut 함수를 사용해 분할\n",
        "\n",
        "#Age_bin(나이 구간)에 따른 생존율 비교\n",
        "sns.countplot(x='AgeBin', hue='Survived', data=data[data['TrainSplit']=='Train'])\n",
        "plt.xticks(rotation=45)\n",
        "plt.show()"
      ],
      "execution_count": 36,
      "outputs": [
        {
          "output_type": "display_data",
          "data": {
            "image/png": "[encoded data removed]",
            "text/plain": [
              "<Figure size 432x288 with 1 Axes>"
            ]
          },
          "metadata": {
            "tags": []
          }
        }
      ]
    },
    {
      "cell_type": "code",
      "metadata": {
        "colab": {
          "base_uri": "https://localhost:8080/",
          "height": 281
        },
        "id": "RPz83c9yNrTV",
        "outputId": "866218c8-416d-41a8-cd2e-6af2e8f8b5be"
      },
      "source": [
        "#형제자매/배우자 수와 승객 나이 및 생존율 관계\n",
        "sns.boxplot(x='SibSp', y='Age', hue='Survived', data=data[data['TrainSplit']=='Train'])\n",
        "plt.show()  #동승자가 2~3명일 경우, 나이에 따른 생존 여부에 차이가 있음"
      ],
      "execution_count": 38,
      "outputs": [
        {
          "output_type": "display_data",
          "data": {
            "image/png": "[encoded data removed]",
            "text/plain": [
              "<Figure size 432x288 with 1 Axes>"
            ]
          },
          "metadata": {
            "tags": []
          }
        }
      ]
    },
    {
      "cell_type": "code",
      "metadata": {
        "colab": {
          "base_uri": "https://localhost:8080/",
          "height": 281
        },
        "id": "ZGGI7jzmOG7W",
        "outputId": "92c1f0d4-b262-4113-b035-825fe7ebda2b"
      },
      "source": [
        "#부모/자식 수에 따른 승객 나이 및 생존율 관계\n",
        "sns.boxplot(x='Parch', y='Age', hue='Survived', data=data[data['TrainSplit']=='Train'])\n",
        "plt.show()  #동승자가 4명 이상일 경우 생존자가 거의 없음"
      ],
      "execution_count": 39,
      "outputs": [
        {
          "output_type": "display_data",
          "data": {
            "image/png": "[encoded data removed]",
            "text/plain": [
              "<Figure size 432x288 with 1 Axes>"
            ]
          },
          "metadata": {
            "tags": []
          }
        }
      ]
    },
    {
      "cell_type": "code",
      "metadata": {
        "colab": {
          "base_uri": "https://localhost:8080/",
          "height": 281
        },
        "id": "bzq4DhQsOYa5",
        "outputId": "51be87a4-e7f3-4fc3-e14c-959c231124ef"
      },
      "source": [
        "#가족 구성원의 수\n",
        "data['FamilySize']=data['SibSp']+data['Parch']+1\n",
        "\n",
        "#가족 구성원의 수와 생존율 관계\n",
        "sns.barplot(x='FamilySize', y='Survived', hue='Pclass', estimator=np.mean, data=data[data['TrainSplit']=='Train'])\n",
        "plt.show()  #가족 수에 따라 객실 등급에 따른 생존율에 차이가 있음"
      ],
      "execution_count": 41,
      "outputs": [
        {
          "output_type": "display_data",
          "data": {
            "image/png": "[encoded data removed]",
            "text/plain": [
              "<Figure size 432x288 with 1 Axes>"
            ]
          },
          "metadata": {
            "tags": []
          }
        }
      ]
    },
    {
      "cell_type": "code",
      "metadata": {
        "colab": {
          "base_uri": "https://localhost:8080/",
          "height": 78
        },
        "id": "mnTUzi6SO3Fw",
        "outputId": "5f8daca2-735c-4b24-a763-a84f65902f9d"
      },
      "source": [
        "#Fare(요금)\n",
        "\n",
        "#결측값 확인-1개의 결측 데이터 존재\n",
        "data.loc[data['Fare'].isnull(), :]  "
      ],
      "execution_count": 42,
      "outputs": [
        {
          "output_type": "execute_result",
          "data": {
            "text/html": [
              "<div>\n",
              "<style scoped>\n",
              "    .dataframe tbody tr th:only-of-type {\n",
              "        vertical-align: middle;\n",
              "    }\n",
              "\n",
              "    .dataframe tbody tr th {\n",
              "        vertical-align: top;\n",
              "    }\n",
              "\n",
              "    .dataframe thead th {\n",
              "        text-align: right;\n",
              "    }\n",
              "</style>\n",
              "<table border=\"1\" class=\"dataframe\">\n",
              "  <thead>\n",
              "    <tr style=\"text-align: right;\">\n",
              "      <th></th>\n",
              "      <th>PassengerId</th>\n",
              "      <th>Survived</th>\n",
              "      <th>Pclass</th>\n",
              "      <th>Sex</th>\n",
              "      <th>Age</th>\n",
              "      <th>SibSp</th>\n",
              "      <th>Parch</th>\n",
              "      <th>Ticket</th>\n",
              "      <th>Fare</th>\n",
              "      <th>Cabin</th>\n",
              "      <th>Embarked</th>\n",
              "      <th>TrainSplit</th>\n",
              "      <th>Title</th>\n",
              "      <th>AgeBin</th>\n",
              "      <th>FamilySize</th>\n",
              "    </tr>\n",
              "  </thead>\n",
              "  <tbody>\n",
              "    <tr>\n",
              "      <th>152</th>\n",
              "      <td>1044</td>\n",
              "      <td>NaN</td>\n",
              "      <td>3</td>\n",
              "      <td>1</td>\n",
              "      <td>60.5</td>\n",
              "      <td>0</td>\n",
              "      <td>0</td>\n",
              "      <td>3701</td>\n",
              "      <td>NaN</td>\n",
              "      <td>NaN</td>\n",
              "      <td>S</td>\n",
              "      <td>Test</td>\n",
              "      <td>Mr</td>\n",
              "      <td>Senior</td>\n",
              "      <td>1</td>\n",
              "    </tr>\n",
              "  </tbody>\n",
              "</table>\n",
              "</div>"
            ],
            "text/plain": [
              "     PassengerId  Survived  Pclass  Sex  ...  TrainSplit  Title  AgeBin FamilySize\n",
              "152         1044       NaN       3    1  ...        Test     Mr  Senior          1\n",
              "\n",
              "[1 rows x 15 columns]"
            ]
          },
          "metadata": {
            "tags": []
          },
          "execution_count": 42
        }
      ]
    },
    {
      "cell_type": "code",
      "metadata": {
        "colab": {
          "base_uri": "https://localhost:8080/",
          "height": 96
        },
        "id": "8XTX-IGtPDSW",
        "outputId": "2845f627-2aa4-4467-f99c-f9c5ca3b109f"
      },
      "source": [
        "#3등석 요금의 평균값을 가지고 결측값 대체\n",
        "p3_fare_mean=data.loc[data['Pclass']==3, 'Fare'].mean()\n",
        "print(p3_fare_mean)\n",
        "data['Fare']=data['Fare'].fillna(p3_fare_mean)\n",
        "data.loc[data['PassengerId']==1044,:'Fare']"
      ],
      "execution_count": 43,
      "outputs": [
        {
          "output_type": "stream",
          "text": [
            "13.302888700564969\n"
          ],
          "name": "stdout"
        },
        {
          "output_type": "execute_result",
          "data": {
            "text/html": [
              "<div>\n",
              "<style scoped>\n",
              "    .dataframe tbody tr th:only-of-type {\n",
              "        vertical-align: middle;\n",
              "    }\n",
              "\n",
              "    .dataframe tbody tr th {\n",
              "        vertical-align: top;\n",
              "    }\n",
              "\n",
              "    .dataframe thead th {\n",
              "        text-align: right;\n",
              "    }\n",
              "</style>\n",
              "<table border=\"1\" class=\"dataframe\">\n",
              "  <thead>\n",
              "    <tr style=\"text-align: right;\">\n",
              "      <th></th>\n",
              "      <th>PassengerId</th>\n",
              "      <th>Survived</th>\n",
              "      <th>Pclass</th>\n",
              "      <th>Sex</th>\n",
              "      <th>Age</th>\n",
              "      <th>SibSp</th>\n",
              "      <th>Parch</th>\n",
              "      <th>Ticket</th>\n",
              "      <th>Fare</th>\n",
              "    </tr>\n",
              "  </thead>\n",
              "  <tbody>\n",
              "    <tr>\n",
              "      <th>152</th>\n",
              "      <td>1044</td>\n",
              "      <td>NaN</td>\n",
              "      <td>3</td>\n",
              "      <td>1</td>\n",
              "      <td>60.5</td>\n",
              "      <td>0</td>\n",
              "      <td>0</td>\n",
              "      <td>3701</td>\n",
              "      <td>13.302889</td>\n",
              "    </tr>\n",
              "  </tbody>\n",
              "</table>\n",
              "</div>"
            ],
            "text/plain": [
              "     PassengerId  Survived  Pclass  Sex   Age  SibSp  Parch Ticket       Fare\n",
              "152         1044       NaN       3    1  60.5      0      0   3701  13.302889"
            ]
          },
          "metadata": {
            "tags": []
          },
          "execution_count": 43
        }
      ]
    },
    {
      "cell_type": "code",
      "metadata": {
        "colab": {
          "base_uri": "https://localhost:8080/",
          "height": 370
        },
        "id": "XOrH5XY6PdG6",
        "outputId": "e0879f48-06c1-44d4-f510-78b758143c3c"
      },
      "source": [
        "#Fare 분포\n",
        "sns.displot(x='Fare', kind='kde', hue='Survived', data=data[data['TrainSplit']=='Train']) #displot의 kind옵션을 'kde'로 설정하고 밀도함수 그래프를 그림\n",
        "plt.show()  #왼쪽으로 치우친 비대칭 분포"
      ],
      "execution_count": 46,
      "outputs": [
        {
          "output_type": "display_data",
          "data": {
            "image/png": "[encoded data removed]",
            "text/plain": [
              "<Figure size 409.54x360 with 1 Axes>"
            ]
          },
          "metadata": {
            "tags": []
          }
        }
      ]
    },
    {
      "cell_type": "code",
      "metadata": {
        "colab": {
          "base_uri": "https://localhost:8080/",
          "height": 370
        },
        "id": "BRKXAwn5P82s",
        "outputId": "15e131b2-2441-4179-ef89-22569513f158"
      },
      "source": [
        "#비대칭 분포를 정규화 하기 위한 로그 변환\n",
        "data['FareLog']=np.log1p(data['Fare'])  #log1p 함수를 이용해 Fare열의 데이터에 로그를 취하면, 정규분포와 가까운 형태로 변환\n",
        "\n",
        "#FareLog 분포\n",
        "sns.displot(x='FareLog', kind='hist', hue='Survived', data=data[data['TrainSplit']=='Train'])\n",
        "plt.show()  #요금이 낮은 쪽으로 데이터가 비어있는 구간이 있음"
      ],
      "execution_count": 50,
      "outputs": [
        {
          "output_type": "display_data",
          "data": {
            "image/png": "[encoded data removed]",
            "text/plain": [
              "<Figure size 409.54x360 with 1 Axes>"
            ]
          },
          "metadata": {
            "tags": []
          }
        }
      ]
    },
    {
      "cell_type": "code",
      "metadata": {
        "colab": {
          "base_uri": "https://localhost:8080/",
          "height": 281
        },
        "id": "vmMMSFR_Qi-t",
        "outputId": "eb9408fd-ff12-498b-d309-34637a8aa016"
      },
      "source": [
        "#객실 등급 별 객실 요금 분포와 생존율\n",
        "sns.stripplot(x='Pclass', y='FareLog', hue='Survived', data=data[data['TrainSplit']=='Train'])\n",
        "plt.show()"
      ],
      "execution_count": 52,
      "outputs": [
        {
          "output_type": "display_data",
          "data": {
            "image/png": "[encoded data removed]",
            "text/plain": [
              "<Figure size 432x288 with 1 Axes>"
            ]
          },
          "metadata": {
            "tags": []
          }
        }
      ]
    },
    {
      "cell_type": "code",
      "metadata": {
        "colab": {
          "base_uri": "https://localhost:8080/",
          "height": 108
        },
        "id": "QqmP2Q-9Q6zS",
        "outputId": "582b648e-ae9b-4d1a-a178-82d2f394dc51"
      },
      "source": [
        "#Embarked(탑승 항구)\n",
        "#결측값 확인-결측값 2개\n",
        "data.loc[data['Embarked'].isnull(), :]"
      ],
      "execution_count": 53,
      "outputs": [
        {
          "output_type": "execute_result",
          "data": {
            "text/html": [
              "<div>\n",
              "<style scoped>\n",
              "    .dataframe tbody tr th:only-of-type {\n",
              "        vertical-align: middle;\n",
              "    }\n",
              "\n",
              "    .dataframe tbody tr th {\n",
              "        vertical-align: top;\n",
              "    }\n",
              "\n",
              "    .dataframe thead th {\n",
              "        text-align: right;\n",
              "    }\n",
              "</style>\n",
              "<table border=\"1\" class=\"dataframe\">\n",
              "  <thead>\n",
              "    <tr style=\"text-align: right;\">\n",
              "      <th></th>\n",
              "      <th>PassengerId</th>\n",
              "      <th>Survived</th>\n",
              "      <th>Pclass</th>\n",
              "      <th>Sex</th>\n",
              "      <th>Age</th>\n",
              "      <th>SibSp</th>\n",
              "      <th>Parch</th>\n",
              "      <th>Ticket</th>\n",
              "      <th>Fare</th>\n",
              "      <th>Cabin</th>\n",
              "      <th>Embarked</th>\n",
              "      <th>TrainSplit</th>\n",
              "      <th>Title</th>\n",
              "      <th>AgeBin</th>\n",
              "      <th>FamilySize</th>\n",
              "      <th>FareLog</th>\n",
              "    </tr>\n",
              "  </thead>\n",
              "  <tbody>\n",
              "    <tr>\n",
              "      <th>61</th>\n",
              "      <td>62</td>\n",
              "      <td>1.0</td>\n",
              "      <td>1</td>\n",
              "      <td>0</td>\n",
              "      <td>38.0</td>\n",
              "      <td>0</td>\n",
              "      <td>0</td>\n",
              "      <td>113572</td>\n",
              "      <td>80.0</td>\n",
              "      <td>B28</td>\n",
              "      <td>NaN</td>\n",
              "      <td>Train</td>\n",
              "      <td>Miss</td>\n",
              "      <td>Adult2</td>\n",
              "      <td>1</td>\n",
              "      <td>4.394449</td>\n",
              "    </tr>\n",
              "    <tr>\n",
              "      <th>829</th>\n",
              "      <td>830</td>\n",
              "      <td>1.0</td>\n",
              "      <td>1</td>\n",
              "      <td>0</td>\n",
              "      <td>62.0</td>\n",
              "      <td>0</td>\n",
              "      <td>0</td>\n",
              "      <td>113572</td>\n",
              "      <td>80.0</td>\n",
              "      <td>B28</td>\n",
              "      <td>NaN</td>\n",
              "      <td>Train</td>\n",
              "      <td>Mrs</td>\n",
              "      <td>Senior</td>\n",
              "      <td>1</td>\n",
              "      <td>4.394449</td>\n",
              "    </tr>\n",
              "  </tbody>\n",
              "</table>\n",
              "</div>"
            ],
            "text/plain": [
              "     PassengerId  Survived  Pclass  Sex  ...  Title  AgeBin  FamilySize   FareLog\n",
              "61            62       1.0       1    0  ...   Miss  Adult2           1  4.394449\n",
              "829          830       1.0       1    0  ...    Mrs  Senior           1  4.394449\n",
              "\n",
              "[2 rows x 16 columns]"
            ]
          },
          "metadata": {
            "tags": []
          },
          "execution_count": 53
        }
      ]
    },
    {
      "cell_type": "code",
      "metadata": {
        "colab": {
          "base_uri": "https://localhost:8080/"
        },
        "id": "jgrGuZkYREqM",
        "outputId": "f78ed690-eae7-45ec-ce71-f5cfd095418e"
      },
      "source": [
        "#최빈값을 사용하여 결측값 처리-가장 탑승자가 많은 항구인 'S' 값으로 결측값을 채움\n",
        "print('Embarked 열의 최빈값:',data['Embarked'].mode()[0]) #최빈값은 mode 함수로 구함\n",
        "data['Embarked']=data['Embarked'].fillna(data['Embarked'].mode()[0])\n",
        "data['Embarked'].value_counts(dropna=False)"
      ],
      "execution_count": 56,
      "outputs": [
        {
          "output_type": "stream",
          "text": [
            "Embarked 열의 최빈값: S\n"
          ],
          "name": "stdout"
        },
        {
          "output_type": "execute_result",
          "data": {
            "text/plain": [
              "S    916\n",
              "C    270\n",
              "Q    123\n",
              "Name: Embarked, dtype: int64"
            ]
          },
          "metadata": {
            "tags": []
          },
          "execution_count": 56
        }
      ]
    },
    {
      "cell_type": "code",
      "metadata": {
        "colab": {
          "base_uri": "https://localhost:8080/",
          "height": 384
        },
        "id": "usmJ1fJLRoks",
        "outputId": "77005d1c-fb50-42f6-a820-4515303c992a"
      },
      "source": [
        "#탑승 항구별 생존율 비교\n",
        "sns.catplot(x='Embarked', y='Survived', kind='point', data=data[data['TrainSplit']=='Train'])\n",
        "plt.show()  #C항구 탑승자의 생존율이 높은 편임"
      ],
      "execution_count": 58,
      "outputs": [
        {
          "output_type": "display_data",
          "data": {
            "image/png": "[encoded data removed]",
            "text/plain": [
              "<Figure size 360x360 with 1 Axes>"
            ]
          },
          "metadata": {
            "tags": []
          }
        }
      ]
    },
    {
      "cell_type": "code",
      "metadata": {
        "colab": {
          "base_uri": "https://localhost:8080/"
        },
        "id": "C21JU0lYR66q",
        "outputId": "9fb8f938-82ac-4f44-b7fb-88936b5e1cf8"
      },
      "source": [
        "#Cabin(객실 구역)\n",
        "#고유 값 확인-알파벳과 숫자로 이루어져있음\n",
        "data['Cabin'].unique()"
      ],
      "execution_count": 59,
      "outputs": [
        {
          "output_type": "execute_result",
          "data": {
            "text/plain": [
              "array([nan, 'C85', 'C123', 'E46', 'G6', 'C103', 'D56', 'A6',\n",
              "       'C23 C25 C27', 'B78', 'D33', 'B30', 'C52', 'B28', 'C83', 'F33',\n",
              "       'F G73', 'E31', 'A5', 'D10 D12', 'D26', 'C110', 'B58 B60', 'E101',\n",
              "       'F E69', 'D47', 'B86', 'F2', 'C2', 'E33', 'B19', 'A7', 'C49', 'F4',\n",
              "       'A32', 'B4', 'B80', 'A31', 'D36', 'D15', 'C93', 'C78', 'D35',\n",
              "       'C87', 'B77', 'E67', 'B94', 'C125', 'C99', 'C118', 'D7', 'A19',\n",
              "       'B49', 'D', 'C22 C26', 'C106', 'C65', 'E36', 'C54',\n",
              "       'B57 B59 B63 B66', 'C7', 'E34', 'C32', 'B18', 'C124', 'C91', 'E40',\n",
              "       'T', 'C128', 'D37', 'B35', 'E50', 'C82', 'B96 B98', 'E10', 'E44',\n",
              "       'A34', 'C104', 'C111', 'C92', 'E38', 'D21', 'E12', 'E63', 'A14',\n",
              "       'B37', 'C30', 'D20', 'B79', 'E25', 'D46', 'B73', 'C95', 'B38',\n",
              "       'B39', 'B22', 'C86', 'C70', 'A16', 'C101', 'C68', 'A10', 'E68',\n",
              "       'B41', 'A20', 'D19', 'D50', 'D9', 'A23', 'B50', 'A26', 'D48',\n",
              "       'E58', 'C126', 'B71', 'B51 B53 B55', 'D49', 'B5', 'B20', 'F G63',\n",
              "       'C62 C64', 'E24', 'C90', 'C45', 'E8', 'B101', 'D45', 'C46', 'D30',\n",
              "       'E121', 'D11', 'E77', 'F38', 'B3', 'D6', 'B82 B84', 'D17', 'A36',\n",
              "       'B102', 'B69', 'E49', 'C47', 'D28', 'E17', 'A24', 'C50', 'B42',\n",
              "       'C148', 'B45', 'B36', 'A21', 'D34', 'A9', 'C31', 'B61', 'C53',\n",
              "       'D43', 'C130', 'C132', 'C55 C57', 'C116', 'F', 'A29', 'C6', 'C28',\n",
              "       'C51', 'C97', 'D22', 'B10', 'E45', 'E52', 'A11', 'B11', 'C80',\n",
              "       'C89', 'F E46', 'B26', 'F E57', 'A18', 'E60', 'E39 E41',\n",
              "       'B52 B54 B56', 'C39', 'B24', 'D40', 'D38', 'C105'], dtype=object)"
            ]
          },
          "metadata": {
            "tags": []
          },
          "execution_count": 59
        }
      ]
    },
    {
      "cell_type": "code",
      "metadata": {
        "colab": {
          "base_uri": "https://localhost:8080/"
        },
        "id": "6k-vYQK-SCZc",
        "outputId": "585f8286-d2f8-4173-cba0-b1d41af19f87"
      },
      "source": [
        "#첫번째 알파벳 이니셜 추출-str 속성으로 문자열을 추출하고, slice 함수로 문자열의 첫글자만을 선택함\n",
        "data['Cabin'].str.slice(0,1).value_counts(dropna=False) #결측값(NaN)이 1014개임"
      ],
      "execution_count": 61,
      "outputs": [
        {
          "output_type": "execute_result",
          "data": {
            "text/plain": [
              "NaN    1014\n",
              "C        94\n",
              "B        65\n",
              "D        46\n",
              "E        41\n",
              "A        22\n",
              "F        21\n",
              "G         5\n",
              "T         1\n",
              "Name: Cabin, dtype: int64"
            ]
          },
          "metadata": {
            "tags": []
          },
          "execution_count": 61
        }
      ]
    },
    {
      "cell_type": "code",
      "metadata": {
        "colab": {
          "base_uri": "https://localhost:8080/",
          "height": 384
        },
        "id": "hqiADe-CSWZZ",
        "outputId": "5e74e670-26bf-4dc6-9bc5-7035907e3650"
      },
      "source": [
        "#알파벳 이니셜(U)로 결측값 대체\n",
        "data['Cabin']=data['Cabin'].str.slice(0,1)\n",
        "data['Cabin']=data['Cabin'].fillna('U')\n",
        "\n",
        "#Cabin 구역별 생존율 비교\n",
        "sns.catplot(x='Cabin', y='Survived', kind='bar', data=data[data['TrainSplit']=='Train'])\n",
        "plt.show()  #결측값인 U의 생존률이 가장 낮음"
      ],
      "execution_count": 64,
      "outputs": [
        {
          "output_type": "display_data",
          "data": {
            "image/png": "[encoded data removed]",
            "text/plain": [
              "<Figure size 360x360 with 1 Axes>"
            ]
          },
          "metadata": {
            "tags": []
          }
        }
      ]
    },
    {
      "cell_type": "code",
      "metadata": {
        "colab": {
          "base_uri": "https://localhost:8080/"
        },
        "id": "22R4jMnYS6OH",
        "outputId": "16523266-df69-4cb2-d7bd-df95089226e4"
      },
      "source": [
        "#Ticket(탑승권)\n",
        "#고유값 확인-알파벳과 숫자가 결합된 형태, 숫자로만 이루어진 데이터가 많음\n",
        "data['Ticket'].value_counts(dropna=False)"
      ],
      "execution_count": 68,
      "outputs": [
        {
          "output_type": "execute_result",
          "data": {
            "text/plain": [
              "CA. 2343       11\n",
              "1601            8\n",
              "CA 2144         8\n",
              "PC 17608        7\n",
              "347082          7\n",
              "               ..\n",
              "SCO/W 1585      1\n",
              "348124          1\n",
              "AQ/3. 30631     1\n",
              "C 17369         1\n",
              "240929          1\n",
              "Name: Ticket, Length: 929, dtype: int64"
            ]
          },
          "metadata": {
            "tags": []
          },
          "execution_count": 68
        }
      ]
    },
    {
      "cell_type": "code",
      "metadata": {
        "colab": {
          "base_uri": "https://localhost:8080/"
        },
        "id": "Hx2ksBhOTLxs",
        "outputId": "9b8ba354-0479-457b-c759-aaf93fab7e93"
      },
      "source": [
        "#문자열 정리-알파벳 추출\n",
        "data['Ticket']=data['Ticket'].str.replace(\".\",\"\").str.replace(\"/\",\"\")\n",
        "data['Ticket']=data['Ticket'].str.strip().str.split(' ').str[0]\n",
        "data['Ticket'].value_counts(dropna=False)"
      ],
      "execution_count": 70,
      "outputs": [
        {
          "output_type": "execute_result",
          "data": {
            "text/plain": [
              "PC         92\n",
              "CA         68\n",
              "A5         28\n",
              "SOTONOQ    24\n",
              "WC         15\n",
              "           ..\n",
              "345769      1\n",
              "374910      1\n",
              "334912      1\n",
              "349234      1\n",
              "17764       1\n",
              "Name: Ticket, Length: 741, dtype: int64"
            ]
          },
          "metadata": {
            "tags": []
          },
          "execution_count": 70
        }
      ]
    },
    {
      "cell_type": "code",
      "metadata": {
        "colab": {
          "base_uri": "https://localhost:8080/",
          "height": 420
        },
        "id": "vFzprdN8Tj2o",
        "outputId": "d58f1ca1-97bb-4525-887d-35470061d888"
      },
      "source": [
        "#문자열이 숫자로만 이루어졌을 경우 \"NUM\" 값으로 치환\n",
        "data.loc[data['Ticket'].str.isdigit(), 'Ticket']='NUM'\n",
        "data['Ticket'].value_counts(dropna=False)[:10]\n",
        "\n",
        "#Ticket 번호별 생존율 비교\n",
        "sns.catplot(x='Ticket', y='Survived', kind='bar', data=data[data['TrainSplit']=='Train'])\n",
        "plt.xticks(rotation=90) #글자 방향 90도로 꺾기\n",
        "plt.show()"
      ],
      "execution_count": 73,
      "outputs": [
        {
          "output_type": "display_data",
          "data": {
            "image/png": "[encoded data removed]",
            "text/plain": [
              "<Figure size 360x360 with 1 Axes>"
            ]
          },
          "metadata": {
            "tags": []
          }
        }
      ]
    }
  ]
}