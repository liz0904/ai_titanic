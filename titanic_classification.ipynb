{
  "nbformat": 4,
  "nbformat_minor": 0,
  "metadata": {
    "colab": {
      "name": "titanic_classification.ipynb",
      "provenance": [],
      "collapsed_sections": [],
      "authorship_tag": "ABX9TyOgqfk+QNEMZRbqT1frsKcL",
      "include_colab_link": true
    },
    "kernelspec": {
      "name": "python3",
      "display_name": "Python 3"
    },
    "language_info": {
      "name": "python"
    }
  },
  "cells": [
    {
      "cell_type": "markdown",
      "metadata": {
        "id": "view-in-github",
        "colab_type": "text"
      },
      "source": [
        "<a href=\"https://colab.research.google.com/github/liz0904/ai_titanic/blob/main/titanic_classification.ipynb\" target=\"_parent\"><img src=\"https://colab.research.google.com/assets/colab-badge.svg\" alt=\"Open In Colab\"/></a>"
      ]
    },
    {
      "cell_type": "code",
      "metadata": {
        "colab": {
          "base_uri": "https://localhost:8080/"
        },
        "id": "qYHERFCTccxK",
        "outputId": "15baf0f4-896c-4f10-d95e-a917a7e16ec6"
      },
      "source": [
        "#구글 드라이브 마운트\n",
        "from google.colab import drive\n",
        "drive.mount('/gdrive/')"
      ],
      "execution_count": 3,
      "outputs": [
        {
          "output_type": "stream",
          "text": [
            "Mounted at /gdrive/\n"
          ],
          "name": "stdout"
        }
      ]
    },
    {
      "cell_type": "code",
      "metadata": {
        "colab": {
          "base_uri": "https://localhost:8080/"
        },
        "id": "CPVbZkb8cdlS",
        "outputId": "0311c0e1-b10a-4696-cff9-7f6341e86271"
      },
      "source": [
        "#<데이터 로딩>\n",
        "\n",
        "#라이브러리 설정\n",
        "import pandas as pd\n",
        "import numpy as np\n",
        "import matplotlib.pyplot as plt\n",
        "import seaborn as sns\n",
        "\n",
        "#데이콘 사이트에서 다운로드한 csv 파일 읽어오기\n",
        "drive_path=\"/gdrive/MyDrive/\"\n",
        "train=pd.read_csv(drive_path+\"titanic/train.csv\") #판다스 read_csv 함수를 사용해 csv 파일을 읽고 데이터 프레임으로 변환\n",
        "test=pd.read_csv(drive_path+\"titanic/test.csv\")\n",
        "submission=pd.read_csv(drive_path+\"titanic/sample_submission.csv\")  #제출 파일 양식\n",
        "print(train.shape, test.shape, submission.shape)  #몇행 몇열인지 확인"
      ],
      "execution_count": 55,
      "outputs": [
        {
          "output_type": "stream",
          "text": [
            "(891, 12) (418, 11) (418, 2)\n"
          ],
          "name": "stdout"
        }
      ]
    },
    {
      "cell_type": "code",
      "metadata": {
        "colab": {
          "base_uri": "https://localhost:8080/",
          "height": 138
        },
        "id": "oIKefsq2dTNU",
        "outputId": "c1507312-ae42-40fb-dab3-a1239baa7b16"
      },
      "source": [
        "#train 데이터 프레임 내용 확인-생존여부(생존 1, 사망 0)\n",
        "train.head(3)"
      ],
      "execution_count": 5,
      "outputs": [
        {
          "output_type": "execute_result",
          "data": {
            "text/html": [
              "<div>\n",
              "<style scoped>\n",
              "    .dataframe tbody tr th:only-of-type {\n",
              "        vertical-align: middle;\n",
              "    }\n",
              "\n",
              "    .dataframe tbody tr th {\n",
              "        vertical-align: top;\n",
              "    }\n",
              "\n",
              "    .dataframe thead th {\n",
              "        text-align: right;\n",
              "    }\n",
              "</style>\n",
              "<table border=\"1\" class=\"dataframe\">\n",
              "  <thead>\n",
              "    <tr style=\"text-align: right;\">\n",
              "      <th></th>\n",
              "      <th>PassengerId</th>\n",
              "      <th>Survived</th>\n",
              "      <th>Pclass</th>\n",
              "      <th>Name</th>\n",
              "      <th>Sex</th>\n",
              "      <th>Age</th>\n",
              "      <th>SibSp</th>\n",
              "      <th>Parch</th>\n",
              "      <th>Ticket</th>\n",
              "      <th>Fare</th>\n",
              "      <th>Cabin</th>\n",
              "      <th>Embarked</th>\n",
              "    </tr>\n",
              "  </thead>\n",
              "  <tbody>\n",
              "    <tr>\n",
              "      <th>0</th>\n",
              "      <td>1</td>\n",
              "      <td>0</td>\n",
              "      <td>3</td>\n",
              "      <td>Braund, Mr. Owen Harris</td>\n",
              "      <td>male</td>\n",
              "      <td>22.0</td>\n",
              "      <td>1</td>\n",
              "      <td>0</td>\n",
              "      <td>A/5 21171</td>\n",
              "      <td>7.2500</td>\n",
              "      <td>NaN</td>\n",
              "      <td>S</td>\n",
              "    </tr>\n",
              "    <tr>\n",
              "      <th>1</th>\n",
              "      <td>2</td>\n",
              "      <td>1</td>\n",
              "      <td>1</td>\n",
              "      <td>Cumings, Mrs. John Bradley (Florence Briggs Th...</td>\n",
              "      <td>female</td>\n",
              "      <td>38.0</td>\n",
              "      <td>1</td>\n",
              "      <td>0</td>\n",
              "      <td>PC 17599</td>\n",
              "      <td>71.2833</td>\n",
              "      <td>C85</td>\n",
              "      <td>C</td>\n",
              "    </tr>\n",
              "    <tr>\n",
              "      <th>2</th>\n",
              "      <td>3</td>\n",
              "      <td>1</td>\n",
              "      <td>3</td>\n",
              "      <td>Heikkinen, Miss. Laina</td>\n",
              "      <td>female</td>\n",
              "      <td>26.0</td>\n",
              "      <td>0</td>\n",
              "      <td>0</td>\n",
              "      <td>STON/O2. 3101282</td>\n",
              "      <td>7.9250</td>\n",
              "      <td>NaN</td>\n",
              "      <td>S</td>\n",
              "    </tr>\n",
              "  </tbody>\n",
              "</table>\n",
              "</div>"
            ],
            "text/plain": [
              "   PassengerId  Survived  Pclass  ...     Fare Cabin  Embarked\n",
              "0            1         0       3  ...   7.2500   NaN         S\n",
              "1            2         1       1  ...  71.2833   C85         C\n",
              "2            3         1       3  ...   7.9250   NaN         S\n",
              "\n",
              "[3 rows x 12 columns]"
            ]
          },
          "metadata": {
            "tags": []
          },
          "execution_count": 5
        }
      ]
    },
    {
      "cell_type": "code",
      "metadata": {
        "colab": {
          "base_uri": "https://localhost:8080/",
          "height": 138
        },
        "id": "hxyekY_feCi5",
        "outputId": "70b634ea-f987-40c8-d65c-a6ad3dfcf384"
      },
      "source": [
        "#test 데이터프레임 내용 확인- 목표변수에 대한 데이터 없음(테스트 데이터라서)\n",
        "test.head(3)"
      ],
      "execution_count": 6,
      "outputs": [
        {
          "output_type": "execute_result",
          "data": {
            "text/html": [
              "<div>\n",
              "<style scoped>\n",
              "    .dataframe tbody tr th:only-of-type {\n",
              "        vertical-align: middle;\n",
              "    }\n",
              "\n",
              "    .dataframe tbody tr th {\n",
              "        vertical-align: top;\n",
              "    }\n",
              "\n",
              "    .dataframe thead th {\n",
              "        text-align: right;\n",
              "    }\n",
              "</style>\n",
              "<table border=\"1\" class=\"dataframe\">\n",
              "  <thead>\n",
              "    <tr style=\"text-align: right;\">\n",
              "      <th></th>\n",
              "      <th>PassengerId</th>\n",
              "      <th>Pclass</th>\n",
              "      <th>Name</th>\n",
              "      <th>Sex</th>\n",
              "      <th>Age</th>\n",
              "      <th>SibSp</th>\n",
              "      <th>Parch</th>\n",
              "      <th>Ticket</th>\n",
              "      <th>Fare</th>\n",
              "      <th>Cabin</th>\n",
              "      <th>Embarked</th>\n",
              "    </tr>\n",
              "  </thead>\n",
              "  <tbody>\n",
              "    <tr>\n",
              "      <th>0</th>\n",
              "      <td>892</td>\n",
              "      <td>3</td>\n",
              "      <td>Kelly, Mr. James</td>\n",
              "      <td>male</td>\n",
              "      <td>34.5</td>\n",
              "      <td>0</td>\n",
              "      <td>0</td>\n",
              "      <td>330911</td>\n",
              "      <td>7.8292</td>\n",
              "      <td>NaN</td>\n",
              "      <td>Q</td>\n",
              "    </tr>\n",
              "    <tr>\n",
              "      <th>1</th>\n",
              "      <td>893</td>\n",
              "      <td>3</td>\n",
              "      <td>Wilkes, Mrs. James (Ellen Needs)</td>\n",
              "      <td>female</td>\n",
              "      <td>47.0</td>\n",
              "      <td>1</td>\n",
              "      <td>0</td>\n",
              "      <td>363272</td>\n",
              "      <td>7.0000</td>\n",
              "      <td>NaN</td>\n",
              "      <td>S</td>\n",
              "    </tr>\n",
              "    <tr>\n",
              "      <th>2</th>\n",
              "      <td>894</td>\n",
              "      <td>2</td>\n",
              "      <td>Myles, Mr. Thomas Francis</td>\n",
              "      <td>male</td>\n",
              "      <td>62.0</td>\n",
              "      <td>0</td>\n",
              "      <td>0</td>\n",
              "      <td>240276</td>\n",
              "      <td>9.6875</td>\n",
              "      <td>NaN</td>\n",
              "      <td>Q</td>\n",
              "    </tr>\n",
              "  </tbody>\n",
              "</table>\n",
              "</div>"
            ],
            "text/plain": [
              "   PassengerId  Pclass                              Name  ...    Fare  Cabin  Embarked\n",
              "0          892       3                  Kelly, Mr. James  ...  7.8292    NaN         Q\n",
              "1          893       3  Wilkes, Mrs. James (Ellen Needs)  ...  7.0000    NaN         S\n",
              "2          894       2         Myles, Mr. Thomas Francis  ...  9.6875    NaN         Q\n",
              "\n",
              "[3 rows x 11 columns]"
            ]
          },
          "metadata": {
            "tags": []
          },
          "execution_count": 6
        }
      ]
    },
    {
      "cell_type": "code",
      "metadata": {
        "colab": {
          "base_uri": "https://localhost:8080/",
          "height": 198
        },
        "id": "FaXwqqzreJAh",
        "outputId": "07a71ec0-3eb7-498f-da65-628a64fd8b76"
      },
      "source": [
        "#submission 제출 파일 양식 확인\n",
        "submission.head()"
      ],
      "execution_count": null,
      "outputs": [
        {
          "output_type": "execute_result",
          "data": {
            "text/html": [
              "<div>\n",
              "<style scoped>\n",
              "    .dataframe tbody tr th:only-of-type {\n",
              "        vertical-align: middle;\n",
              "    }\n",
              "\n",
              "    .dataframe tbody tr th {\n",
              "        vertical-align: top;\n",
              "    }\n",
              "\n",
              "    .dataframe thead th {\n",
              "        text-align: right;\n",
              "    }\n",
              "</style>\n",
              "<table border=\"1\" class=\"dataframe\">\n",
              "  <thead>\n",
              "    <tr style=\"text-align: right;\">\n",
              "      <th></th>\n",
              "      <th>PassengerId</th>\n",
              "      <th>Survived</th>\n",
              "    </tr>\n",
              "  </thead>\n",
              "  <tbody>\n",
              "    <tr>\n",
              "      <th>0</th>\n",
              "      <td>892</td>\n",
              "      <td>0</td>\n",
              "    </tr>\n",
              "    <tr>\n",
              "      <th>1</th>\n",
              "      <td>893</td>\n",
              "      <td>1</td>\n",
              "    </tr>\n",
              "    <tr>\n",
              "      <th>2</th>\n",
              "      <td>894</td>\n",
              "      <td>0</td>\n",
              "    </tr>\n",
              "    <tr>\n",
              "      <th>3</th>\n",
              "      <td>895</td>\n",
              "      <td>0</td>\n",
              "    </tr>\n",
              "    <tr>\n",
              "      <th>4</th>\n",
              "      <td>896</td>\n",
              "      <td>1</td>\n",
              "    </tr>\n",
              "  </tbody>\n",
              "</table>\n",
              "</div>"
            ],
            "text/plain": [
              "   PassengerId  Survived\n",
              "0          892         0\n",
              "1          893         1\n",
              "2          894         0\n",
              "3          895         0\n",
              "4          896         1"
            ]
          },
          "metadata": {
            "tags": []
          },
          "execution_count": 13
        }
      ]
    },
    {
      "cell_type": "code",
      "metadata": {
        "colab": {
          "base_uri": "https://localhost:8080/"
        },
        "id": "sHSMHq7oehvf",
        "outputId": "887cb31f-924c-47ba-b762-7d8b543f0199"
      },
      "source": [
        "#train 데이터프레임 개요 정보-891보다 작은 개수의 non-null 데이터가 있는데, 부족한 개수만큼 missing value 존재\n",
        "train.info()"
      ],
      "execution_count": 7,
      "outputs": [
        {
          "output_type": "stream",
          "text": [
            "<class 'pandas.core.frame.DataFrame'>\n",
            "RangeIndex: 891 entries, 0 to 890\n",
            "Data columns (total 12 columns):\n",
            " #   Column       Non-Null Count  Dtype  \n",
            "---  ------       --------------  -----  \n",
            " 0   PassengerId  891 non-null    int64  \n",
            " 1   Survived     891 non-null    int64  \n",
            " 2   Pclass       891 non-null    int64  \n",
            " 3   Name         891 non-null    object \n",
            " 4   Sex          891 non-null    object \n",
            " 5   Age          714 non-null    float64\n",
            " 6   SibSp        891 non-null    int64  \n",
            " 7   Parch        891 non-null    int64  \n",
            " 8   Ticket       891 non-null    object \n",
            " 9   Fare         891 non-null    float64\n",
            " 10  Cabin        204 non-null    object \n",
            " 11  Embarked     889 non-null    object \n",
            "dtypes: float64(2), int64(5), object(5)\n",
            "memory usage: 83.7+ KB\n"
          ],
          "name": "stdout"
        }
      ]
    },
    {
      "cell_type": "code",
      "metadata": {
        "colab": {
          "base_uri": "https://localhost:8080/",
          "height": 378
        },
        "id": "jienSJVTfmv6",
        "outputId": "fbdbd6eb-f732-4466-9413-722be6d5ec56"
      },
      "source": [
        "#train 데이터프레임 통계 정보\n",
        "train.describe(include='all') #all-숫자형이 아닌 문자열 등에 대한 정보를 포함해 show"
      ],
      "execution_count": 8,
      "outputs": [
        {
          "output_type": "execute_result",
          "data": {
            "text/html": [
              "<div>\n",
              "<style scoped>\n",
              "    .dataframe tbody tr th:only-of-type {\n",
              "        vertical-align: middle;\n",
              "    }\n",
              "\n",
              "    .dataframe tbody tr th {\n",
              "        vertical-align: top;\n",
              "    }\n",
              "\n",
              "    .dataframe thead th {\n",
              "        text-align: right;\n",
              "    }\n",
              "</style>\n",
              "<table border=\"1\" class=\"dataframe\">\n",
              "  <thead>\n",
              "    <tr style=\"text-align: right;\">\n",
              "      <th></th>\n",
              "      <th>PassengerId</th>\n",
              "      <th>Survived</th>\n",
              "      <th>Pclass</th>\n",
              "      <th>Name</th>\n",
              "      <th>Sex</th>\n",
              "      <th>Age</th>\n",
              "      <th>SibSp</th>\n",
              "      <th>Parch</th>\n",
              "      <th>Ticket</th>\n",
              "      <th>Fare</th>\n",
              "      <th>Cabin</th>\n",
              "      <th>Embarked</th>\n",
              "    </tr>\n",
              "  </thead>\n",
              "  <tbody>\n",
              "    <tr>\n",
              "      <th>count</th>\n",
              "      <td>891.000000</td>\n",
              "      <td>891.000000</td>\n",
              "      <td>891.000000</td>\n",
              "      <td>891</td>\n",
              "      <td>891</td>\n",
              "      <td>714.000000</td>\n",
              "      <td>891.000000</td>\n",
              "      <td>891.000000</td>\n",
              "      <td>891</td>\n",
              "      <td>891.000000</td>\n",
              "      <td>204</td>\n",
              "      <td>889</td>\n",
              "    </tr>\n",
              "    <tr>\n",
              "      <th>unique</th>\n",
              "      <td>NaN</td>\n",
              "      <td>NaN</td>\n",
              "      <td>NaN</td>\n",
              "      <td>891</td>\n",
              "      <td>2</td>\n",
              "      <td>NaN</td>\n",
              "      <td>NaN</td>\n",
              "      <td>NaN</td>\n",
              "      <td>681</td>\n",
              "      <td>NaN</td>\n",
              "      <td>147</td>\n",
              "      <td>3</td>\n",
              "    </tr>\n",
              "    <tr>\n",
              "      <th>top</th>\n",
              "      <td>NaN</td>\n",
              "      <td>NaN</td>\n",
              "      <td>NaN</td>\n",
              "      <td>Ball, Mrs. (Ada E Hall)</td>\n",
              "      <td>male</td>\n",
              "      <td>NaN</td>\n",
              "      <td>NaN</td>\n",
              "      <td>NaN</td>\n",
              "      <td>CA. 2343</td>\n",
              "      <td>NaN</td>\n",
              "      <td>C23 C25 C27</td>\n",
              "      <td>S</td>\n",
              "    </tr>\n",
              "    <tr>\n",
              "      <th>freq</th>\n",
              "      <td>NaN</td>\n",
              "      <td>NaN</td>\n",
              "      <td>NaN</td>\n",
              "      <td>1</td>\n",
              "      <td>577</td>\n",
              "      <td>NaN</td>\n",
              "      <td>NaN</td>\n",
              "      <td>NaN</td>\n",
              "      <td>7</td>\n",
              "      <td>NaN</td>\n",
              "      <td>4</td>\n",
              "      <td>644</td>\n",
              "    </tr>\n",
              "    <tr>\n",
              "      <th>mean</th>\n",
              "      <td>446.000000</td>\n",
              "      <td>0.383838</td>\n",
              "      <td>2.308642</td>\n",
              "      <td>NaN</td>\n",
              "      <td>NaN</td>\n",
              "      <td>29.699118</td>\n",
              "      <td>0.523008</td>\n",
              "      <td>0.381594</td>\n",
              "      <td>NaN</td>\n",
              "      <td>32.204208</td>\n",
              "      <td>NaN</td>\n",
              "      <td>NaN</td>\n",
              "    </tr>\n",
              "    <tr>\n",
              "      <th>std</th>\n",
              "      <td>257.353842</td>\n",
              "      <td>0.486592</td>\n",
              "      <td>0.836071</td>\n",
              "      <td>NaN</td>\n",
              "      <td>NaN</td>\n",
              "      <td>14.526497</td>\n",
              "      <td>1.102743</td>\n",
              "      <td>0.806057</td>\n",
              "      <td>NaN</td>\n",
              "      <td>49.693429</td>\n",
              "      <td>NaN</td>\n",
              "      <td>NaN</td>\n",
              "    </tr>\n",
              "    <tr>\n",
              "      <th>min</th>\n",
              "      <td>1.000000</td>\n",
              "      <td>0.000000</td>\n",
              "      <td>1.000000</td>\n",
              "      <td>NaN</td>\n",
              "      <td>NaN</td>\n",
              "      <td>0.420000</td>\n",
              "      <td>0.000000</td>\n",
              "      <td>0.000000</td>\n",
              "      <td>NaN</td>\n",
              "      <td>0.000000</td>\n",
              "      <td>NaN</td>\n",
              "      <td>NaN</td>\n",
              "    </tr>\n",
              "    <tr>\n",
              "      <th>25%</th>\n",
              "      <td>223.500000</td>\n",
              "      <td>0.000000</td>\n",
              "      <td>2.000000</td>\n",
              "      <td>NaN</td>\n",
              "      <td>NaN</td>\n",
              "      <td>20.125000</td>\n",
              "      <td>0.000000</td>\n",
              "      <td>0.000000</td>\n",
              "      <td>NaN</td>\n",
              "      <td>7.910400</td>\n",
              "      <td>NaN</td>\n",
              "      <td>NaN</td>\n",
              "    </tr>\n",
              "    <tr>\n",
              "      <th>50%</th>\n",
              "      <td>446.000000</td>\n",
              "      <td>0.000000</td>\n",
              "      <td>3.000000</td>\n",
              "      <td>NaN</td>\n",
              "      <td>NaN</td>\n",
              "      <td>28.000000</td>\n",
              "      <td>0.000000</td>\n",
              "      <td>0.000000</td>\n",
              "      <td>NaN</td>\n",
              "      <td>14.454200</td>\n",
              "      <td>NaN</td>\n",
              "      <td>NaN</td>\n",
              "    </tr>\n",
              "    <tr>\n",
              "      <th>75%</th>\n",
              "      <td>668.500000</td>\n",
              "      <td>1.000000</td>\n",
              "      <td>3.000000</td>\n",
              "      <td>NaN</td>\n",
              "      <td>NaN</td>\n",
              "      <td>38.000000</td>\n",
              "      <td>1.000000</td>\n",
              "      <td>0.000000</td>\n",
              "      <td>NaN</td>\n",
              "      <td>31.000000</td>\n",
              "      <td>NaN</td>\n",
              "      <td>NaN</td>\n",
              "    </tr>\n",
              "    <tr>\n",
              "      <th>max</th>\n",
              "      <td>891.000000</td>\n",
              "      <td>1.000000</td>\n",
              "      <td>3.000000</td>\n",
              "      <td>NaN</td>\n",
              "      <td>NaN</td>\n",
              "      <td>80.000000</td>\n",
              "      <td>8.000000</td>\n",
              "      <td>6.000000</td>\n",
              "      <td>NaN</td>\n",
              "      <td>512.329200</td>\n",
              "      <td>NaN</td>\n",
              "      <td>NaN</td>\n",
              "    </tr>\n",
              "  </tbody>\n",
              "</table>\n",
              "</div>"
            ],
            "text/plain": [
              "        PassengerId    Survived      Pclass  ...        Fare        Cabin  Embarked\n",
              "count    891.000000  891.000000  891.000000  ...  891.000000          204       889\n",
              "unique          NaN         NaN         NaN  ...         NaN          147         3\n",
              "top             NaN         NaN         NaN  ...         NaN  C23 C25 C27         S\n",
              "freq            NaN         NaN         NaN  ...         NaN            4       644\n",
              "mean     446.000000    0.383838    2.308642  ...   32.204208          NaN       NaN\n",
              "std      257.353842    0.486592    0.836071  ...   49.693429          NaN       NaN\n",
              "min        1.000000    0.000000    1.000000  ...    0.000000          NaN       NaN\n",
              "25%      223.500000    0.000000    2.000000  ...    7.910400          NaN       NaN\n",
              "50%      446.000000    0.000000    3.000000  ...   14.454200          NaN       NaN\n",
              "75%      668.500000    1.000000    3.000000  ...   31.000000          NaN       NaN\n",
              "max      891.000000    1.000000    3.000000  ...  512.329200          NaN       NaN\n",
              "\n",
              "[11 rows x 12 columns]"
            ]
          },
          "metadata": {
            "tags": []
          },
          "execution_count": 8
        }
      ]
    },
    {
      "cell_type": "code",
      "metadata": {
        "colab": {
          "base_uri": "https://localhost:8080/",
          "height": 428
        },
        "id": "fSPvzvmzf64N",
        "outputId": "4a6a1d5f-59b4-42b6-93d6-a43d1b3bec89"
      },
      "source": [
        "#결측값 분포-missingno 라이브러리 사용\n",
        "import missingno as msno\n",
        "msno.bar(train, figsize=(10,5), color=(0.7, 0.2, 0.2))\n",
        "plt.show()  #Age, Cabin, Embarked 열에 결측값 존재"
      ],
      "execution_count": 9,
      "outputs": [
        {
          "output_type": "display_data",
          "data": {
            "image/png": "[encoded data removed]",
            "text/plain": [
              "<Figure size 720x360 with 3 Axes>"
            ]
          },
          "metadata": {
            "tags": [],
            "needs_background": "light"
          }
        }
      ]
    },
    {
      "cell_type": "code",
      "metadata": {
        "colab": {
          "base_uri": "https://localhost:8080/",
          "height": 400
        },
        "id": "1Lij0jv3gd-l",
        "outputId": "2e89c89a-f29d-4eda-cbad-b35b53c9eb29"
      },
      "source": [
        "#matrix 함수: 데이터프레미의 어느위치에 결측값이 있는지 확인\n",
        "msno.matrix(test, figsize=(10,5), color=(0.7, 0.2, 0.2))\n",
        "plt.show()"
      ],
      "execution_count": 10,
      "outputs": [
        {
          "output_type": "display_data",
          "data": {
            "image/png": "[encoded data removed]",
            "text/plain": [
              "<Figure size 720x360 with 2 Axes>"
            ]
          },
          "metadata": {
            "tags": [],
            "needs_background": "light"
          }
        }
      ]
    },
    {
      "cell_type": "code",
      "metadata": {
        "colab": {
          "base_uri": "https://localhost:8080/",
          "height": 488
        },
        "id": "6qMGFRMsgvQm",
        "outputId": "feed74bc-672e-4ab7-94e7-0e14d91392a1"
      },
      "source": [
        "#상관 관계 분석\n",
        "#숫자형 변수 간의 상관관계를 계산하여 히트맵 그리기\n",
        "plt.figure(figsize=(8,8))\n",
        "sns.set(font_scale=0.8)\n",
        "sns.heatmap(train.corr(), annot=True, cbar=True); #corr 함수: 숫자형 데이터로 구성된 열에 대해서만 상관계수를 계산\n",
        "plt.show()  #Survived(목표변수)열과 상관관계가 높은 피처는 Pclass와 Fare, 또 Pclass와 Rase끼리의 상관계수(-0.55)도 높음"
      ],
      "execution_count": 11,
      "outputs": [
        {
          "output_type": "display_data",
          "data": {
            "image/png": "[encoded data removed]",
            "text/plain": [
              "<Figure size 576x576 with 2 Axes>"
            ]
          },
          "metadata": {
            "tags": [],
            "needs_background": "light"
          }
        }
      ]
    },
    {
      "cell_type": "code",
      "metadata": {
        "colab": {
          "base_uri": "https://localhost:8080/"
        },
        "id": "5MgfYIDLhq7g",
        "outputId": "54c9fcb2-2661-4acb-ed20-aa71a8dc845e"
      },
      "source": [
        "#데이터 결합-타이타닉 전체 데이터셋 준비\n",
        "train['TrainSplit']='Train'\n",
        "test['TrainSplit']='Test'\n",
        "data=pd.concat([train, test], axis=0) #concat 함수로 데이터프레임(train, test)을 위아래 방향(axis=0)으로 연결\n",
        "print(data.shape)"
      ],
      "execution_count": 12,
      "outputs": [
        {
          "output_type": "stream",
          "text": [
            "(1309, 13)\n"
          ],
          "name": "stdout"
        }
      ]
    },
    {
      "cell_type": "code",
      "metadata": {
        "colab": {
          "base_uri": "https://localhost:8080/"
        },
        "id": "C4OzZGcyiUDm",
        "outputId": "c25ab1fb-3170-4dda-8124-3e7d637eefce"
      },
      "source": [
        "#데이터 전처리\n",
        "#숫자형 피처 추출\n",
        "data_num=data.loc[:,['Pclass','Age','SibSp','Parch', 'Fare', 'Survived']]\n",
        "\n",
        "#결측값 대체-fillna 함수 사용\n",
        "data_num['Age']=data_num['Age'].fillna(data_num['Age'].mean())    #Age열의 결측값은 평균값(mean)으로 대체\n",
        "data_num['Fare']=data_num['Fare'].fillna(data_num['Fare'].mean()) #Fare열의 결측값은 가장 많은 빈도수(최빈값)으로 대체\n",
        "\n",
        "#학습용 데이터와 예측 대상인 테스트 데이터 구분\n",
        "selected_features=['Pclass', 'Age','SibSp', 'Parch', 'Fare']\n",
        "x_train=data_num.loc[data['TrainSplit']=='Train', selected_features]\n",
        "y_train=data_num.loc[data['TrainSplit']=='Train', 'Survived']\n",
        "\n",
        "x_test=data_num.loc[data['TrainSplit']=='Test', selected_features]\n",
        "\n",
        "print(\"Train 데이터셋 크기:\", x_train.shape, y_train.shape)\n",
        "print(\"Test 데이터셋 크기\", x_test.shape)"
      ],
      "execution_count": 13,
      "outputs": [
        {
          "output_type": "stream",
          "text": [
            "Train 데이터셋 크기: (891, 5) (891,)\n",
            "Test 데이터셋 크기 (418, 5)\n"
          ],
          "name": "stdout"
        }
      ]
    },
    {
      "cell_type": "code",
      "metadata": {
        "colab": {
          "base_uri": "https://localhost:8080/",
          "height": 267
        },
        "id": "GHclUFxVjwWG",
        "outputId": "54662045-31c5-428e-dfa2-c3acf8fbba43"
      },
      "source": [
        "#모델 학습 및 검증-로지스틱 회귀 분류 모델\n",
        "#훈련 - 검증 데이터 분할(y_val_pred:검증 데이터에 대한 예측값, y_val: 실제값)\n",
        "#학습데이터 x_train, y_train을 훈련데이터 80%, 검증데이터 20%으로 분할\n",
        "from sklearn.model_selection import train_test_split\n",
        "x_tr, x_val, y_tr, y_val=train_test_split(x_train, y_train, test_size=0.2, shuffle=True, random_state=20)\n",
        "\n",
        "#로지스틱 회귀 모델\n",
        "from sklearn.linear_model import LogisticRegression\n",
        "lr_model=LogisticRegression()\n",
        "lr_model.fit(x_tr, y_tr)\n",
        "y_val_pred=lr_model.predict(x_val)\n",
        "\n",
        "#Confusion Matrix-혼동 행력 계산 및 그래프로 표시\n",
        "# *혼동 행렬: 모형의 예측값과 실제값을 각각 축으로 하는 2X2 매트릭스로 표현한 것(정밀도, 재현율, F1 지표 산출 가능)\n",
        "from sklearn.metrics import confusion_matrix\n",
        "sns.heatmap(confusion_matrix(y_val, y_val_pred), annot=True, cbar=False, square=True)\n",
        "plt.show()\n"
      ],
      "execution_count": 24,
      "outputs": [
        {
          "output_type": "display_data",
          "data": {
            "image/png": "[encoded data removed]",
            "text/plain": [
              "<Figure size 432x288 with 1 Axes>"
            ]
          },
          "metadata": {
            "tags": []
          }
        }
      ]
    },
    {
      "cell_type": "code",
      "metadata": {
        "colab": {
          "base_uri": "https://localhost:8080/"
        },
        "id": "NnlCSGV0Vd1A",
        "outputId": "43b65ad6-03bf-4862-bfd1-8fff5168c50e"
      },
      "source": [
        "#평가 지표\n",
        "from sklearn.metrics import accuracy_score, precision_score, recall_score\n",
        "from sklearn.metrics import f1_score, roc_auc_score\n",
        "\n",
        "print(\"Accuracy:%.3f\" %accuracy_score(y_val,y_val_pred))\n",
        "print(\"Precision: %.4f\" %precision_score(y_val, y_val_pred))  #정밀도: True로 예측한 분석 대상 중에서 실제값이 True인 비율 (높을수록  False Positive 오류가 작음)\n",
        "print(\"Recall: %4.f\" %recall_score(y_val,y_val_pred))         #재현율: 실제 True 중에서 True로 예측하여 모형이 적중한 비율 (높을 수록 False Negative 오류가 낮음)\n",
        "print(\"F1: %.4f\" %f1_score(y_val,y_val_pred))                 #F1 지표: 정확도와 재현율의 조화 평균 (높을 수록 분류 모형의 예측력이 좋음)\n",
        "print(\"AUC: %.4f\" %roc_auc_score(y_val, y_val_pred))          #데이콘 경진대회에서 사용하는 평가지표 (1에 가까울 수록 예측력이 좋은 모델)"
      ],
      "execution_count": 25,
      "outputs": [
        {
          "output_type": "stream",
          "text": [
            "Accuracy:0.721\n",
            "Precision: 0.6889\n",
            "Recall:    0\n",
            "F1: 0.5536\n",
            "AUC: 0.6688\n"
          ],
          "name": "stdout"
        }
      ]
    },
    {
      "cell_type": "code",
      "metadata": {
        "colab": {
          "base_uri": "https://localhost:8080/",
          "height": 198
        },
        "id": "cydFzE28WrH9",
        "outputId": "6c9a875e-b4b0-4835-9bb1-2b9457251bac"
      },
      "source": [
        "#모델 예측\n",
        "#test 데이터에 대한 예측값 정리\n",
        "y_test_pred=lr_model.predict(x_test)\n",
        "\n",
        "#제출 양식에 맞게 정리\n",
        "submission['Survived']=y_test_pred.astype(int)  #astype 함수로 예측값을 정수형으로 변환\n",
        "\n",
        "#제출 파일 저장\n",
        "submission_filepath=drive_path+'baseline_num_lr_submission_001.csv'\n",
        "submission.to_csv(submission_filepath, index=False)\n",
        "submission.head(5)"
      ],
      "execution_count": 21,
      "outputs": [
        {
          "output_type": "execute_result",
          "data": {
            "text/html": [
              "<div>\n",
              "<style scoped>\n",
              "    .dataframe tbody tr th:only-of-type {\n",
              "        vertical-align: middle;\n",
              "    }\n",
              "\n",
              "    .dataframe tbody tr th {\n",
              "        vertical-align: top;\n",
              "    }\n",
              "\n",
              "    .dataframe thead th {\n",
              "        text-align: right;\n",
              "    }\n",
              "</style>\n",
              "<table border=\"1\" class=\"dataframe\">\n",
              "  <thead>\n",
              "    <tr style=\"text-align: right;\">\n",
              "      <th></th>\n",
              "      <th>PassengerId</th>\n",
              "      <th>Survived</th>\n",
              "    </tr>\n",
              "  </thead>\n",
              "  <tbody>\n",
              "    <tr>\n",
              "      <th>0</th>\n",
              "      <td>892</td>\n",
              "      <td>0</td>\n",
              "    </tr>\n",
              "    <tr>\n",
              "      <th>1</th>\n",
              "      <td>893</td>\n",
              "      <td>0</td>\n",
              "    </tr>\n",
              "    <tr>\n",
              "      <th>2</th>\n",
              "      <td>894</td>\n",
              "      <td>0</td>\n",
              "    </tr>\n",
              "    <tr>\n",
              "      <th>3</th>\n",
              "      <td>895</td>\n",
              "      <td>0</td>\n",
              "    </tr>\n",
              "    <tr>\n",
              "      <th>4</th>\n",
              "      <td>896</td>\n",
              "      <td>0</td>\n",
              "    </tr>\n",
              "  </tbody>\n",
              "</table>\n",
              "</div>"
            ],
            "text/plain": [
              "   PassengerId  Survived\n",
              "0          892         0\n",
              "1          893         0\n",
              "2          894         0\n",
              "3          895         0\n",
              "4          896         0"
            ]
          },
          "metadata": {
            "tags": []
          },
          "execution_count": 21
        }
      ]
    },
    {
      "cell_type": "code",
      "metadata": {
        "colab": {
          "base_uri": "https://localhost:8080/"
        },
        "id": "pDCcFUrGYm-Z",
        "outputId": "1c6675e5-c577-4faf-9bf6-86ca9fede323"
      },
      "source": [
        "#피처 엔지니어링(+EDA)\n",
        "\n",
        "#Survived: 생존 여부\n",
        "#타깃 레이블의 분포 확인\n",
        "train['Survived'].value_counts(dropna=False)  #생존자 342명"
      ],
      "execution_count": 30,
      "outputs": [
        {
          "output_type": "execute_result",
          "data": {
            "text/plain": [
              "0    549\n",
              "1    342\n",
              "Name: Survived, dtype: int64"
            ]
          },
          "metadata": {
            "tags": []
          },
          "execution_count": 30
        }
      ]
    },
    {
      "cell_type": "code",
      "metadata": {
        "colab": {
          "base_uri": "https://localhost:8080/",
          "height": 281
        },
        "id": "g2h91I6Trg2F",
        "outputId": "55a06f06-1feb-4234-f806-8bae39005b30"
      },
      "source": [
        "#객실 등급별 분포 확인\n",
        "sns.countplot(x='Survived', data=data[data['TrainSplit']=='Train'])\n",
        "plt.show()"
      ],
      "execution_count": 31,
      "outputs": [
        {
          "output_type": "display_data",
          "data": {
            "image/png": "[encoded data removed]",
            "text/plain": [
              "<Figure size 432x288 with 1 Axes>"
            ]
          },
          "metadata": {
            "tags": []
          }
        }
      ]
    },
    {
      "cell_type": "code",
      "metadata": {
        "colab": {
          "base_uri": "https://localhost:8080/",
          "height": 281
        },
        "id": "sSjgWgz3r2WX",
        "outputId": "1d49df69-7d5d-4db8-8125-a27a301636ed"
      },
      "source": [
        "#train-test 데이터 분포\n",
        "#3등석 승객이 가장 많고, 1~2등석은 비슷함\n",
        "sns.countplot(x='Pclass', hue='TrainSplit', data=data)\n",
        "plt.show()"
      ],
      "execution_count": 32,
      "outputs": [
        {
          "output_type": "display_data",
          "data": {
            "image/png": "[encoded data removed]",
            "text/plain": [
              "<Figure size 432x288 with 1 Axes>"
            ]
          },
          "metadata": {
            "tags": []
          }
        }
      ]
    },
    {
      "cell_type": "code",
      "metadata": {
        "colab": {
          "base_uri": "https://localhost:8080/",
          "height": 281
        },
        "id": "kZVrq3-WumFl",
        "outputId": "2f745581-69b1-433d-d740-e1acc8d8b034"
      },
      "source": [
        "#객실 등급(Pclass)에 따른 생존자(Survived) 비율 확인\n",
        "sns.countplot(x='Pclass', hue='Survived', data=data[data['TrainSplit']=='Train'])\n",
        "plt.show()"
      ],
      "execution_count": 34,
      "outputs": [
        {
          "output_type": "display_data",
          "data": {
            "image/png": "[encoded data removed]",
            "text/plain": [
              "<Figure size 432x288 with 1 Axes>"
            ]
          },
          "metadata": {
            "tags": []
          }
        }
      ]
    },
    {
      "cell_type": "code",
      "metadata": {
        "colab": {
          "base_uri": "https://localhost:8080/",
          "height": 281
        },
        "id": "gZ0HoKAxu7_A",
        "outputId": "423b49d8-d91b-4b93-dc71-efcc575fda03"
      },
      "source": [
        "#등급별 객실(Pclass)별 객실 요금(Fare)의 중간값(median)의 분포\n",
        "sns.barplot(x='Pclass',y='Fare', hue='Survived', data=data[data['TrainSplit']=='Train'], estimator=np.median)\n",
        "plt.show()  #생존자들이 지불한 객실요금이 높은 패턴을 보임"
      ],
      "execution_count": 35,
      "outputs": [
        {
          "output_type": "display_data",
          "data": {
            "image/png": "[encoded data removed]",
            "text/plain": [
              "<Figure size 432x288 with 1 Axes>"
            ]
          },
          "metadata": {
            "tags": []
          }
        }
      ]
    },
    {
      "cell_type": "code",
      "metadata": {
        "colab": {
          "base_uri": "https://localhost:8080/",
          "height": 281
        },
        "id": "TfhVT0Y9vYRY",
        "outputId": "fa678acb-2ec5-4b0b-e7df-c4f97c10eccb"
      },
      "source": [
        "#남녀 성별에 따른 생존율 분포 파악\n",
        "sns.histplot(x='Sex', hue='Survived', multiple='dodge', data=data[data['TrainSplit']=='Train']) #multiple 속성에 dodge를 설정하면 hue 옵션의 데이터를 기준으로 막대 그래프를 서로 겹치지 않게 수평으로 펼쳐서 분리 표시\n",
        "plt.show()"
      ],
      "execution_count": 37,
      "outputs": [
        {
          "output_type": "display_data",
          "data": {
            "image/png": "[encoded data removed]",
            "text/plain": [
              "<Figure size 432x288 with 1 Axes>"
            ]
          },
          "metadata": {
            "tags": []
          }
        }
      ]
    },
    {
      "cell_type": "code",
      "metadata": {
        "colab": {
          "base_uri": "https://localhost:8080/"
        },
        "id": "ofcxDoSVvua7",
        "outputId": "6beb3704-ddcb-42dc-ad31-9df4fdb00b39"
      },
      "source": [
        "#레이블 인코딩(female=0, male=1)\n",
        "#문자열 데이터를 그대로 학습에 사용할 수 없기에, 숫자형 데이터로 변환하는 작업\n",
        "data.loc[data['Sex']=='female', 'Sex']=0\n",
        "data.loc[data['Sex']=='male', 'Sex']=1\n",
        "data['Sex']=data['Sex'].astype(int)\n",
        "\n",
        "#성별 분포 확인\n",
        "data['Sex'].value_counts(dropna=False)"
      ],
      "execution_count": 38,
      "outputs": [
        {
          "output_type": "execute_result",
          "data": {
            "text/plain": [
              "1    843\n",
              "0    466\n",
              "Name: Sex, dtype: int64"
            ]
          },
          "metadata": {
            "tags": []
          },
          "execution_count": 38
        }
      ]
    },
    {
      "cell_type": "code",
      "metadata": {
        "colab": {
          "base_uri": "https://localhost:8080/"
        },
        "id": "uEwRK0_2wQ6a",
        "outputId": "bb8ee108-7269-49fc-d47c-15a74a0168cc"
      },
      "source": [
        "#Name:이름 - 문자열 데이터를 다루는 방법 스터디\n",
        "data['Name'].unique() #unique 함수로 고유값을 확인"
      ],
      "execution_count": 40,
      "outputs": [
        {
          "output_type": "execute_result",
          "data": {
            "text/plain": [
              "array(['Braund, Mr. Owen Harris',\n",
              "       'Cumings, Mrs. John Bradley (Florence Briggs Thayer)',\n",
              "       'Heikkinen, Miss. Laina', ..., 'Saether, Mr. Simon Sivertsen',\n",
              "       'Ware, Mr. Frederick', 'Peter, Master. Michael J'], dtype=object)"
            ]
          },
          "metadata": {
            "tags": []
          },
          "execution_count": 40
        }
      ]
    },
    {
      "cell_type": "code",
      "metadata": {
        "colab": {
          "base_uri": "https://localhost:8080/"
        },
        "id": "h2nkVwWCwhGG",
        "outputId": "becca31d-0988-43b0-ae6e-b6bc01a17bb5"
      },
      "source": [
        "#Name 열을 선택하고 str 속성을 적용하면 문자열을 직접 추출할 수 있음\n",
        "#split 메소드를 적용하면 문자열을 쉼표 기준을 분할함 -> 타이틀(Mr, Ms 등)이 들어있는 뒷부분의 문자열을 따로 추출\n",
        "title_name=data['Name'].str.split(\", \", expand=True)[1]\n",
        "title_name"
      ],
      "execution_count": 41,
      "outputs": [
        {
          "output_type": "execute_result",
          "data": {
            "text/plain": [
              "0                                 Mr. Owen Harris\n",
              "1      Mrs. John Bradley (Florence Briggs Thayer)\n",
              "2                                     Miss. Laina\n",
              "3              Mrs. Jacques Heath (Lily May Peel)\n",
              "4                               Mr. William Henry\n",
              "                          ...                    \n",
              "413                                     Mr. Woolf\n",
              "414                                 Dona. Fermina\n",
              "415                           Mr. Simon Sivertsen\n",
              "416                                 Mr. Frederick\n",
              "417                             Master. Michael J\n",
              "Name: 1, Length: 1309, dtype: object"
            ]
          },
          "metadata": {
            "tags": []
          },
          "execution_count": 41
        }
      ]
    },
    {
      "cell_type": "code",
      "metadata": {
        "colab": {
          "base_uri": "https://localhost:8080/"
        },
        "id": "vp-ckQqWxDwv",
        "outputId": "0db1c754-7d83-4439-8e88-47d06ffbf7bf"
      },
      "source": [
        "#타이틀부분([0])과 성([1])을 나눔\n",
        "title=title_name.str.split(\".\", expand=True)[0]\n",
        "title.value_counts(dropna=False)"
      ],
      "execution_count": 43,
      "outputs": [
        {
          "output_type": "execute_result",
          "data": {
            "text/plain": [
              "Mr              757\n",
              "Miss            260\n",
              "Mrs             197\n",
              "Master           61\n",
              "Dr                8\n",
              "Rev               8\n",
              "Col               4\n",
              "Ms                2\n",
              "Major             2\n",
              "Mlle              2\n",
              "Lady              1\n",
              "the Countess      1\n",
              "Jonkheer          1\n",
              "Mme               1\n",
              "Sir               1\n",
              "Capt              1\n",
              "Dona              1\n",
              "Don               1\n",
              "Name: 0, dtype: int64"
            ]
          },
          "metadata": {
            "tags": []
          },
          "execution_count": 43
        }
      ]
    },
    {
      "cell_type": "code",
      "metadata": {
        "colab": {
          "base_uri": "https://localhost:8080/"
        },
        "id": "oHPykaU2xiXr",
        "outputId": "2733dd4e-5c5e-4011-9262-ae60c236c178"
      },
      "source": [
        "#비슷한 속성을 가진 타이틀끼리 같은 그룹으로 묶기\n",
        "#replace 함수를 타이틀이 들어있는 시리즈 객체에 적용하면 리스트 안의 문자열들을 뒤에 나오는 문자열로 모두 바꿈\n",
        "title=title.replace(['Ms'], 'Miss')\n",
        "title=title.replace(['Mlle', 'ths Countess', 'Lady', 'Don','Dona','Mme', 'Sir', 'Jonkheer'],'Noble')\n",
        "title=title.replace(['Col', 'Major', 'Capt'], 'Officer')\n",
        "title=title.replace(['Dr', 'Rev'], 'Priest')\n",
        "data['Title']=np.array(title)\n",
        "data['Title'].value_counts(dropna=False)"
      ],
      "execution_count": 44,
      "outputs": [
        {
          "output_type": "execute_result",
          "data": {
            "text/plain": [
              "Mr              757\n",
              "Miss            262\n",
              "Mrs             197\n",
              "Master           61\n",
              "Priest           16\n",
              "Noble             8\n",
              "Officer           7\n",
              "the Countess      1\n",
              "Name: Title, dtype: int64"
            ]
          },
          "metadata": {
            "tags": []
          },
          "execution_count": 44
        }
      ]
    },
    {
      "cell_type": "code",
      "metadata": {
        "colab": {
          "base_uri": "https://localhost:8080/",
          "height": 281
        },
        "id": "lqTDECJjyRX4",
        "outputId": "abd0962a-4ba7-49d3-8fe0-4db305a8033d"
      },
      "source": [
        "#승객 나이와 생존 여부와의 관계\n",
        "sns.violinplot(x='Title', y='Age', hue='Survived', data=data, split=True)\n",
        "plt.show()"
      ],
      "execution_count": 45,
      "outputs": [
        {
          "output_type": "display_data",
          "data": {
            "image/png": "[encoded data removed]",
            "text/plain": [
              "<Figure size 432x288 with 1 Axes>"
            ]
          },
          "metadata": {
            "tags": []
          }
        }
      ]
    },
    {
      "cell_type": "code",
      "metadata": {
        "colab": {
          "base_uri": "https://localhost:8080/",
          "height": 378
        },
        "id": "Bkc4BwaNygDc",
        "outputId": "d6691a77-4c2b-4f5d-ec0c-a6fc355a76a1"
      },
      "source": [
        "#불필요해진 Name열은 데이터 프레임에서 삭제(의미있는 건 앞에서 Title 열에 저장함)\n",
        "#왜 오류가 날까 ㅠㅠ\n",
        "data = data.drop('Name', axis=1)\n",
        "data.columns"
      ],
      "execution_count": 72,
      "outputs": [
        {
          "output_type": "error",
          "ename": "KeyError",
          "evalue": "ignored",
          "traceback": [
            "\u001b[0;31m---------------------------------------------------------------------------\u001b[0m",
            "\u001b[0;31mKeyError\u001b[0m                                  Traceback (most recent call last)",
            "\u001b[0;32m<ipython-input-72-3bbb7cbc071c>\u001b[0m in \u001b[0;36m<module>\u001b[0;34m()\u001b[0m\n\u001b[1;32m      1\u001b[0m \u001b[0;31m#불필요해진 Name열은 데이터 프레임에서 삭제(의미있는 건 앞에서 Title 열에 저장함)\u001b[0m\u001b[0;34m\u001b[0m\u001b[0;34m\u001b[0m\u001b[0;34m\u001b[0m\u001b[0m\n\u001b[1;32m      2\u001b[0m \u001b[0;31m#왜 오류가 날까 ㅠㅠ\u001b[0m\u001b[0;34m\u001b[0m\u001b[0;34m\u001b[0m\u001b[0;34m\u001b[0m\u001b[0m\n\u001b[0;32m----> 3\u001b[0;31m \u001b[0mdata\u001b[0m \u001b[0;34m=\u001b[0m \u001b[0mdata\u001b[0m\u001b[0;34m.\u001b[0m\u001b[0mdrop\u001b[0m\u001b[0;34m(\u001b[0m\u001b[0;34m'Name'\u001b[0m\u001b[0;34m,\u001b[0m \u001b[0maxis\u001b[0m\u001b[0;34m=\u001b[0m\u001b[0;36m1\u001b[0m\u001b[0;34m)\u001b[0m\u001b[0;34m\u001b[0m\u001b[0;34m\u001b[0m\u001b[0m\n\u001b[0m\u001b[1;32m      4\u001b[0m \u001b[0mdata\u001b[0m\u001b[0;34m.\u001b[0m\u001b[0mcolumns\u001b[0m\u001b[0;34m\u001b[0m\u001b[0;34m\u001b[0m\u001b[0m\n",
            "\u001b[0;32m/usr/local/lib/python3.7/dist-packages/pandas/core/frame.py\u001b[0m in \u001b[0;36mdrop\u001b[0;34m(self, labels, axis, index, columns, level, inplace, errors)\u001b[0m\n\u001b[1;32m   4172\u001b[0m             \u001b[0mlevel\u001b[0m\u001b[0;34m=\u001b[0m\u001b[0mlevel\u001b[0m\u001b[0;34m,\u001b[0m\u001b[0;34m\u001b[0m\u001b[0;34m\u001b[0m\u001b[0m\n\u001b[1;32m   4173\u001b[0m             \u001b[0minplace\u001b[0m\u001b[0;34m=\u001b[0m\u001b[0minplace\u001b[0m\u001b[0;34m,\u001b[0m\u001b[0;34m\u001b[0m\u001b[0;34m\u001b[0m\u001b[0m\n\u001b[0;32m-> 4174\u001b[0;31m             \u001b[0merrors\u001b[0m\u001b[0;34m=\u001b[0m\u001b[0merrors\u001b[0m\u001b[0;34m,\u001b[0m\u001b[0;34m\u001b[0m\u001b[0;34m\u001b[0m\u001b[0m\n\u001b[0m\u001b[1;32m   4175\u001b[0m         )\n\u001b[1;32m   4176\u001b[0m \u001b[0;34m\u001b[0m\u001b[0m\n",
            "\u001b[0;32m/usr/local/lib/python3.7/dist-packages/pandas/core/generic.py\u001b[0m in \u001b[0;36mdrop\u001b[0;34m(self, labels, axis, index, columns, level, inplace, errors)\u001b[0m\n\u001b[1;32m   3887\u001b[0m         \u001b[0;32mfor\u001b[0m \u001b[0maxis\u001b[0m\u001b[0;34m,\u001b[0m \u001b[0mlabels\u001b[0m \u001b[0;32min\u001b[0m \u001b[0maxes\u001b[0m\u001b[0;34m.\u001b[0m\u001b[0mitems\u001b[0m\u001b[0;34m(\u001b[0m\u001b[0;34m)\u001b[0m\u001b[0;34m:\u001b[0m\u001b[0;34m\u001b[0m\u001b[0;34m\u001b[0m\u001b[0m\n\u001b[1;32m   3888\u001b[0m             \u001b[0;32mif\u001b[0m \u001b[0mlabels\u001b[0m \u001b[0;32mis\u001b[0m \u001b[0;32mnot\u001b[0m \u001b[0;32mNone\u001b[0m\u001b[0;34m:\u001b[0m\u001b[0;34m\u001b[0m\u001b[0;34m\u001b[0m\u001b[0m\n\u001b[0;32m-> 3889\u001b[0;31m                 \u001b[0mobj\u001b[0m \u001b[0;34m=\u001b[0m \u001b[0mobj\u001b[0m\u001b[0;34m.\u001b[0m\u001b[0m_drop_axis\u001b[0m\u001b[0;34m(\u001b[0m\u001b[0mlabels\u001b[0m\u001b[0;34m,\u001b[0m \u001b[0maxis\u001b[0m\u001b[0;34m,\u001b[0m \u001b[0mlevel\u001b[0m\u001b[0;34m=\u001b[0m\u001b[0mlevel\u001b[0m\u001b[0;34m,\u001b[0m \u001b[0merrors\u001b[0m\u001b[0;34m=\u001b[0m\u001b[0merrors\u001b[0m\u001b[0;34m)\u001b[0m\u001b[0;34m\u001b[0m\u001b[0;34m\u001b[0m\u001b[0m\n\u001b[0m\u001b[1;32m   3890\u001b[0m \u001b[0;34m\u001b[0m\u001b[0m\n\u001b[1;32m   3891\u001b[0m         \u001b[0;32mif\u001b[0m \u001b[0minplace\u001b[0m\u001b[0;34m:\u001b[0m\u001b[0;34m\u001b[0m\u001b[0;34m\u001b[0m\u001b[0m\n",
            "\u001b[0;32m/usr/local/lib/python3.7/dist-packages/pandas/core/generic.py\u001b[0m in \u001b[0;36m_drop_axis\u001b[0;34m(self, labels, axis, level, errors)\u001b[0m\n\u001b[1;32m   3921\u001b[0m                 \u001b[0mnew_axis\u001b[0m \u001b[0;34m=\u001b[0m \u001b[0maxis\u001b[0m\u001b[0;34m.\u001b[0m\u001b[0mdrop\u001b[0m\u001b[0;34m(\u001b[0m\u001b[0mlabels\u001b[0m\u001b[0;34m,\u001b[0m \u001b[0mlevel\u001b[0m\u001b[0;34m=\u001b[0m\u001b[0mlevel\u001b[0m\u001b[0;34m,\u001b[0m \u001b[0merrors\u001b[0m\u001b[0;34m=\u001b[0m\u001b[0merrors\u001b[0m\u001b[0;34m)\u001b[0m\u001b[0;34m\u001b[0m\u001b[0;34m\u001b[0m\u001b[0m\n\u001b[1;32m   3922\u001b[0m             \u001b[0;32melse\u001b[0m\u001b[0;34m:\u001b[0m\u001b[0;34m\u001b[0m\u001b[0;34m\u001b[0m\u001b[0m\n\u001b[0;32m-> 3923\u001b[0;31m                 \u001b[0mnew_axis\u001b[0m \u001b[0;34m=\u001b[0m \u001b[0maxis\u001b[0m\u001b[0;34m.\u001b[0m\u001b[0mdrop\u001b[0m\u001b[0;34m(\u001b[0m\u001b[0mlabels\u001b[0m\u001b[0;34m,\u001b[0m \u001b[0merrors\u001b[0m\u001b[0;34m=\u001b[0m\u001b[0merrors\u001b[0m\u001b[0;34m)\u001b[0m\u001b[0;34m\u001b[0m\u001b[0;34m\u001b[0m\u001b[0m\n\u001b[0m\u001b[1;32m   3924\u001b[0m             \u001b[0mresult\u001b[0m \u001b[0;34m=\u001b[0m \u001b[0mself\u001b[0m\u001b[0;34m.\u001b[0m\u001b[0mreindex\u001b[0m\u001b[0;34m(\u001b[0m\u001b[0;34m**\u001b[0m\u001b[0;34m{\u001b[0m\u001b[0maxis_name\u001b[0m\u001b[0;34m:\u001b[0m \u001b[0mnew_axis\u001b[0m\u001b[0;34m}\u001b[0m\u001b[0;34m)\u001b[0m\u001b[0;34m\u001b[0m\u001b[0;34m\u001b[0m\u001b[0m\n\u001b[1;32m   3925\u001b[0m \u001b[0;34m\u001b[0m\u001b[0m\n",
            "\u001b[0;32m/usr/local/lib/python3.7/dist-packages/pandas/core/indexes/base.py\u001b[0m in \u001b[0;36mdrop\u001b[0;34m(self, labels, errors)\u001b[0m\n\u001b[1;32m   5285\u001b[0m         \u001b[0;32mif\u001b[0m \u001b[0mmask\u001b[0m\u001b[0;34m.\u001b[0m\u001b[0many\u001b[0m\u001b[0;34m(\u001b[0m\u001b[0;34m)\u001b[0m\u001b[0;34m:\u001b[0m\u001b[0;34m\u001b[0m\u001b[0;34m\u001b[0m\u001b[0m\n\u001b[1;32m   5286\u001b[0m             \u001b[0;32mif\u001b[0m \u001b[0merrors\u001b[0m \u001b[0;34m!=\u001b[0m \u001b[0;34m\"ignore\"\u001b[0m\u001b[0;34m:\u001b[0m\u001b[0;34m\u001b[0m\u001b[0;34m\u001b[0m\u001b[0m\n\u001b[0;32m-> 5287\u001b[0;31m                 \u001b[0;32mraise\u001b[0m \u001b[0mKeyError\u001b[0m\u001b[0;34m(\u001b[0m\u001b[0;34mf\"{labels[mask]} not found in axis\"\u001b[0m\u001b[0;34m)\u001b[0m\u001b[0;34m\u001b[0m\u001b[0;34m\u001b[0m\u001b[0m\n\u001b[0m\u001b[1;32m   5288\u001b[0m             \u001b[0mindexer\u001b[0m \u001b[0;34m=\u001b[0m \u001b[0mindexer\u001b[0m\u001b[0;34m[\u001b[0m\u001b[0;34m~\u001b[0m\u001b[0mmask\u001b[0m\u001b[0;34m]\u001b[0m\u001b[0;34m\u001b[0m\u001b[0;34m\u001b[0m\u001b[0m\n\u001b[1;32m   5289\u001b[0m         \u001b[0;32mreturn\u001b[0m \u001b[0mself\u001b[0m\u001b[0;34m.\u001b[0m\u001b[0mdelete\u001b[0m\u001b[0;34m(\u001b[0m\u001b[0mindexer\u001b[0m\u001b[0;34m)\u001b[0m\u001b[0;34m\u001b[0m\u001b[0;34m\u001b[0m\u001b[0m\n",
            "\u001b[0;31mKeyError\u001b[0m: \"['Name'] not found in axis\""
          ]
        }
      ]
    },
    {
      "cell_type": "code",
      "metadata": {
        "colab": {
          "base_uri": "https://localhost:8080/"
        },
        "id": "-s-SlYkozvsg",
        "outputId": "5540affe-3fce-4d28-b4b2-6d9b928e18e8"
      },
      "source": [
        "#나이 Age열의 결측값 확인\n",
        "for title in data['Title'].unique():\n",
        "  #결측값 개수 확인\n",
        "  print(\"%s 결측값 개수:\" %title, data.loc[data['Title']==title, 'Age'].isnull().sum())\n",
        "  #각 Title의 중간값으로 대체\n",
        "  age_med=data.loc[data['Title']==title, 'Age'].median()\n",
        "  data.loc[data['Title']==title,'Age']=data.loc[data['Title']==title, 'Age'].fillna(age_med)\n",
        "\n",
        "#결측값 처리 여부 확인\n",
        "print(\"\\n\")\n",
        "print(\"Age 열의 결측값 개수\", data['Age'].isnull().sum())"
      ],
      "execution_count": 76,
      "outputs": [
        {
          "output_type": "stream",
          "text": [
            "Mr 결측값 개수: 0\n",
            "Mrs 결측값 개수: 0\n",
            "Miss 결측값 개수: 0\n",
            "Master 결측값 개수: 0\n",
            "Noble 결측값 개수: 0\n",
            "Priest 결측값 개수: 0\n",
            "Officer 결측값 개수: 0\n",
            "the Countess 결측값 개수: 0\n",
            "\n",
            "\n",
            "Age 열의 결측값 개수 0\n"
          ],
          "name": "stdout"
        }
      ]
    },
    {
      "cell_type": "code",
      "metadata": {
        "colab": {
          "base_uri": "https://localhost:8080/",
          "height": 370
        },
        "id": "ZjY6Enfp5I_D",
        "outputId": "5a4e44c1-84b6-4a16-8e4f-b88a9fa22f14"
      },
      "source": [
        "#Age 분포\n",
        "sns.displot(x='Age', kind='hist', hue='Survived', data=data[data['TrainSplit']=='Train'])\n",
        "plt.show()"
      ],
      "execution_count": 77,
      "outputs": [
        {
          "output_type": "display_data",
          "data": {
            "image/png": "[encoded data removed]",
            "text/plain": [
              "<Figure size 409.54x360 with 1 Axes>"
            ]
          },
          "metadata": {
            "tags": []
          }
        }
      ]
    },
    {
      "cell_type": "code",
      "metadata": {
        "colab": {
          "base_uri": "https://localhost:8080/",
          "height": 318
        },
        "id": "WKQmocYc5bWt",
        "outputId": "835fdf68-0e0d-42f2-c215-89e77093af30"
      },
      "source": [
        "#나이에 따라 생존율에 차이가 나기 때문에 앞의 히스토그램 분포를 기준으로 Age 열의 데이터를 여러 개의 구간으로 나눔\n",
        "#Binning-구간 나누기\n",
        "bins=[0,4,8,12,16,32,36,48,56,64,100]\n",
        "labels=['Infant','Child1','Child2','Youth1','Youth2', 'Adult1', 'Adult2','Middle Aged','Senior','Elderly']\n",
        "data['AgeBin']=pd.cut(data['Age'],bins=bins,labels=labels)  #각 구간의 이름(lable) 지정, 각 구간의 나누는 경계값(bin), cut 함수를 사용해 분할\n",
        "\n",
        "#Age_bin(나이 구간)에 따른 생존율 비교\n",
        "sns.countplot(x='AgeBin', hue='Survived', data=data[data['TrainSplit']=='Train'])\n",
        "plt.xticks(rotation=45)\n",
        "plt.show()"
      ],
      "execution_count": 81,
      "outputs": [
        {
          "output_type": "display_data",
          "data": {
            "image/png": "[encoded data removed]",
            "text/plain": [
              "<Figure size 432x288 with 1 Axes>"
            ]
          },
          "metadata": {
            "tags": []
          }
        }
      ]
    }
  ]
}